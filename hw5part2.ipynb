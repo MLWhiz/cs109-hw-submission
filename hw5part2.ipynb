{
 "cells": [
  {
   "cell_type": "markdown",
   "metadata": {},
   "source": [
    "# Homework 5: Part 2"
   ]
  },
  {
   "cell_type": "markdown",
   "metadata": {},
   "source": [
    "## Welcome Back"
   ]
  },
  {
   "cell_type": "markdown",
   "metadata": {},
   "source": [
    "Now that you've preprocessed the data using Spark and Natural Language processing, found topics in sentences using LDA, and created some sentiment analysis using Naive Bayes we continue our analysis by looking at the probabilities from our model. \n",
    "\n",
    "If you used the AWS cluster or Vagrant for Spark make sure to shut down your cluster and `halt` Vagrant."
   ]
  },
  {
   "cell_type": "markdown",
   "metadata": {},
   "source": [
    "#Table of Contents\n",
    "* [Homework 5: Part 2](#Homework-5:-Part-2)\n",
    "\t* [Welcome Back](#Welcome-Back)\n",
    "\t\t* [Create dataframes for Topic 0 and Topic 1](#Create-dataframes-for-Topic-0-and-Topic-1)\n",
    "\t* [5. Playing with probability](#5.-Playing-with-probability)\n",
    "\t\t* [Probabilities per review and topic](#Probabilities-per-review-and-topic)\n",
    "\t\t\t* [5.1 What are the probabilities of classification for the two LDA topics?](#5.1-What-are-the-probabilities-of-classification-for-the-two-LDA-topics?)\n",
    "\t\t* [A single example.](#A-single-example.)\n",
    "\t\t\t* [5.2 Plots of probability vs star rating](#5.2-Plots-of-probability-vs-star-rating)\n",
    "\t\t* [A Bayesian analysis of sentence probabilities](#A-Bayesian-analysis-of-sentence-probabilities)\n",
    "\t\t* [Assuming Normality](#Assuming-Normality)\n",
    "\t\t\t* [Posterior distribution](#Posterior-distribution)\n",
    "\t\t* [Empirical Bayes](#Empirical-Bayes)\n",
    "\t\t\t* [Marginal Distribution of data](#Marginal-Distribution-of-data)\n",
    "\t\t* [Estimating $\\mu$](#Estimating-$\\mu$)\n",
    "\t\t\t* [5.3 Write a function to calculate the overall mean of all reviews for a given restaurant](#5.3-Write-a-function-to-calculate-the-overall-mean-of-all-reviews-for-a-given-restaurant)\n",
    "\t\t\t* [A better estimate of $\\mu$.](#A-better-estimate-of-$\\mu$.)\n",
    "\t\t* [Compute the estimated $\\tau^2$](#Compute-the-estimated-$\\tau^2$)\n",
    "\t\t\t* [Simple initial estimate of $\\tau^2$](#Simple-initial-estimate-of-$\\tau^2$)\n",
    "\t\t* [Iterating Once More](#Iterating-Once-More)\n",
    "\t\t\t* [Fisher Weighting (again)](#Fisher-Weighting-%28again%29)\n",
    "\t\t\t* [Nearly There!](#Nearly-There!)\n",
    "\t\t\t* [Some considerations with this zero-finding (optimization)](#Some-considerations-with-this-zero-finding-%28optimization%29)\n",
    "\t\t\t* [Calculate an updated, Fisher weighted mean.](#Calculate-an-updated,-Fisher-weighted-mean.)\n",
    "\t\t* [Back to the posterior](#Back-to-the-posterior)\n",
    "\t\t* [Probabilities and shrinkage](#Probabilities-and-shrinkage)\n",
    "\t\t\t* [5.4 Make a shrinkage plot](#5.4-Make-a-shrinkage-plot)\n",
    "\t\t\t* [Shrinkage plots on individual probabilities](#Shrinkage-plots-on-individual-probabilities)\n",
    "\t\t\t* [5.5 Extract data into the variable `data2` and make a shrinkage plot for Topic 1.](#5.5-Extract-data-into-the-variable-data2-and-make-a-shrinkage-plot-for-Topic-1.)\n",
    "\t\t\t* [5.6 Create probability shrinkage plots.](#5.6-Create-probability-shrinkage-plots.)\n",
    "\t\t\t* [5.7 How would one evaluate these probabilities?](#5.7-How-would-one-evaluate-these-probabilities?)\n"
   ]
  },
  {
   "cell_type": "code",
   "execution_count": 1,
   "metadata": {
    "collapsed": true
   },
   "outputs": [],
   "source": [
    "%matplotlib inline\n",
    "import numpy as np\n",
    "import scipy as sp\n",
    "import matplotlib as mpl\n",
    "import matplotlib.cm as cm\n",
    "import matplotlib.pyplot as plt\n",
    "import pandas as pd\n",
    "pd.set_option('display.width', 500)\n",
    "pd.set_option('display.max_columns', 100)\n",
    "pd.set_option('display.notebook_repr_html', True)\n",
    "import seaborn as sns\n",
    "sns.set_style(\"whitegrid\")\n",
    "sns.set_context(\"poster\")"
   ]
  },
  {
   "cell_type": "markdown",
   "metadata": {},
   "source": [
    "### Create dataframes for Topic 0 and Topic 1"
   ]
  },
  {
   "cell_type": "markdown",
   "metadata": {},
   "source": [
    "We split the dataframes based on the `topic` to create two dataframes based on Topic 0 and Topic 1."
   ]
  },
  {
   "cell_type": "code",
   "execution_count": 2,
   "metadata": {
    "collapsed": false
   },
   "outputs": [
    {
     "data": {
      "text/html": [
       "<div>\n",
       "<table border=\"1\" class=\"dataframe\">\n",
       "  <thead>\n",
       "    <tr style=\"text-align: right;\">\n",
       "      <th></th>\n",
       "      <th>review_id</th>\n",
       "      <th>topic</th>\n",
       "      <th>rid</th>\n",
       "      <th>count</th>\n",
       "      <th>max</th>\n",
       "      <th>mean</th>\n",
       "      <th>min</th>\n",
       "      <th>stars</th>\n",
       "      <th>uavg</th>\n",
       "      <th>var</th>\n",
       "    </tr>\n",
       "  </thead>\n",
       "  <tbody>\n",
       "    <tr>\n",
       "      <th>0</th>\n",
       "      <td>---sV8KdwfBoDw38KW_WnQ</td>\n",
       "      <td>0</td>\n",
       "      <td>VgLiSW1iGkpzIEXOgvUBEw</td>\n",
       "      <td>5</td>\n",
       "      <td>0.689383</td>\n",
       "      <td>0.558430</td>\n",
       "      <td>0.312919</td>\n",
       "      <td>3</td>\n",
       "      <td>3.285714</td>\n",
       "      <td>0.024112</td>\n",
       "    </tr>\n",
       "    <tr>\n",
       "      <th>1</th>\n",
       "      <td>---sV8KdwfBoDw38KW_WnQ</td>\n",
       "      <td>1</td>\n",
       "      <td>VgLiSW1iGkpzIEXOgvUBEw</td>\n",
       "      <td>5</td>\n",
       "      <td>0.816901</td>\n",
       "      <td>0.554300</td>\n",
       "      <td>0.211441</td>\n",
       "      <td>3</td>\n",
       "      <td>3.285714</td>\n",
       "      <td>0.050309</td>\n",
       "    </tr>\n",
       "    <tr>\n",
       "      <th>2</th>\n",
       "      <td>--0MzHNy7MVBRvZCOAeRPg</td>\n",
       "      <td>0</td>\n",
       "      <td>4gLecengX1JeGILm7DwU3w</td>\n",
       "      <td>3</td>\n",
       "      <td>0.746711</td>\n",
       "      <td>0.574416</td>\n",
       "      <td>0.360240</td>\n",
       "      <td>5</td>\n",
       "      <td>3.829268</td>\n",
       "      <td>0.038655</td>\n",
       "    </tr>\n",
       "    <tr>\n",
       "      <th>3</th>\n",
       "      <td>--0MzHNy7MVBRvZCOAeRPg</td>\n",
       "      <td>1</td>\n",
       "      <td>4gLecengX1JeGILm7DwU3w</td>\n",
       "      <td>6</td>\n",
       "      <td>0.848065</td>\n",
       "      <td>0.657755</td>\n",
       "      <td>0.476156</td>\n",
       "      <td>5</td>\n",
       "      <td>3.829268</td>\n",
       "      <td>0.014583</td>\n",
       "    </tr>\n",
       "    <tr>\n",
       "      <th>4</th>\n",
       "      <td>--2NT40xmHh9oBLumzdjhA</td>\n",
       "      <td>0</td>\n",
       "      <td>4ZZab5hinFzHtj3sE8vQWg</td>\n",
       "      <td>5</td>\n",
       "      <td>0.764218</td>\n",
       "      <td>0.601008</td>\n",
       "      <td>0.337710</td>\n",
       "      <td>2</td>\n",
       "      <td>4.181818</td>\n",
       "      <td>0.026742</td>\n",
       "    </tr>\n",
       "  </tbody>\n",
       "</table>\n",
       "</div>"
      ],
      "text/plain": [
       "                review_id  topic                     rid  count       max      mean       min  stars      uavg       var\n",
       "0  ---sV8KdwfBoDw38KW_WnQ      0  VgLiSW1iGkpzIEXOgvUBEw      5  0.689383  0.558430  0.312919      3  3.285714  0.024112\n",
       "1  ---sV8KdwfBoDw38KW_WnQ      1  VgLiSW1iGkpzIEXOgvUBEw      5  0.816901  0.554300  0.211441      3  3.285714  0.050309\n",
       "2  --0MzHNy7MVBRvZCOAeRPg      0  4gLecengX1JeGILm7DwU3w      3  0.746711  0.574416  0.360240      5  3.829268  0.038655\n",
       "3  --0MzHNy7MVBRvZCOAeRPg      1  4gLecengX1JeGILm7DwU3w      6  0.848065  0.657755  0.476156      5  3.829268  0.014583\n",
       "4  --2NT40xmHh9oBLumzdjhA      0  4ZZab5hinFzHtj3sE8vQWg      5  0.764218  0.601008  0.337710      2  4.181818  0.026742"
      ]
     },
     "execution_count": 2,
     "metadata": {},
     "output_type": "execute_result"
    }
   ],
   "source": [
    "dftouse=pd.read_csv(\"dftouse.csv\")\n",
    "dftouse.head()"
   ]
  },
  {
   "cell_type": "code",
   "execution_count": 25,
   "metadata": {
    "collapsed": true
   },
   "outputs": [],
   "source": [
    "c0df=dftouse[dftouse.topic==0]\n",
    "c1df=dftouse[dftouse.topic==1]"
   ]
  },
  {
   "cell_type": "code",
   "execution_count": 26,
   "metadata": {
    "collapsed": false
   },
   "outputs": [
    {
     "data": {
      "text/html": [
       "<div>\n",
       "<table border=\"1\" class=\"dataframe\">\n",
       "  <thead>\n",
       "    <tr style=\"text-align: right;\">\n",
       "      <th></th>\n",
       "      <th>review_id</th>\n",
       "      <th>topic</th>\n",
       "      <th>rid</th>\n",
       "      <th>count</th>\n",
       "      <th>max</th>\n",
       "      <th>mean</th>\n",
       "      <th>min</th>\n",
       "      <th>stars</th>\n",
       "      <th>uavg</th>\n",
       "      <th>var</th>\n",
       "    </tr>\n",
       "  </thead>\n",
       "  <tbody>\n",
       "    <tr>\n",
       "      <th>0</th>\n",
       "      <td>---sV8KdwfBoDw38KW_WnQ</td>\n",
       "      <td>0</td>\n",
       "      <td>VgLiSW1iGkpzIEXOgvUBEw</td>\n",
       "      <td>5</td>\n",
       "      <td>0.689383</td>\n",
       "      <td>0.558430</td>\n",
       "      <td>0.312919</td>\n",
       "      <td>3</td>\n",
       "      <td>3.285714</td>\n",
       "      <td>0.024112</td>\n",
       "    </tr>\n",
       "    <tr>\n",
       "      <th>2</th>\n",
       "      <td>--0MzHNy7MVBRvZCOAeRPg</td>\n",
       "      <td>0</td>\n",
       "      <td>4gLecengX1JeGILm7DwU3w</td>\n",
       "      <td>3</td>\n",
       "      <td>0.746711</td>\n",
       "      <td>0.574416</td>\n",
       "      <td>0.360240</td>\n",
       "      <td>5</td>\n",
       "      <td>3.829268</td>\n",
       "      <td>0.038655</td>\n",
       "    </tr>\n",
       "    <tr>\n",
       "      <th>4</th>\n",
       "      <td>--2NT40xmHh9oBLumzdjhA</td>\n",
       "      <td>0</td>\n",
       "      <td>4ZZab5hinFzHtj3sE8vQWg</td>\n",
       "      <td>5</td>\n",
       "      <td>0.764218</td>\n",
       "      <td>0.601008</td>\n",
       "      <td>0.337710</td>\n",
       "      <td>2</td>\n",
       "      <td>4.181818</td>\n",
       "      <td>0.026742</td>\n",
       "    </tr>\n",
       "    <tr>\n",
       "      <th>6</th>\n",
       "      <td>--2Ylq1M_Toj6e0hy_C2XA</td>\n",
       "      <td>0</td>\n",
       "      <td>e9er1p-8RMyRa9IKUzKE-w</td>\n",
       "      <td>4</td>\n",
       "      <td>0.743135</td>\n",
       "      <td>0.613059</td>\n",
       "      <td>0.539191</td>\n",
       "      <td>4</td>\n",
       "      <td>3.500000</td>\n",
       "      <td>0.008469</td>\n",
       "    </tr>\n",
       "    <tr>\n",
       "      <th>8</th>\n",
       "      <td>--3QRshg8GhfimzyGWkcAQ</td>\n",
       "      <td>0</td>\n",
       "      <td>T2zItRCqolfzSZR2Io0OZg</td>\n",
       "      <td>2</td>\n",
       "      <td>0.758943</td>\n",
       "      <td>0.756603</td>\n",
       "      <td>0.754264</td>\n",
       "      <td>5</td>\n",
       "      <td>3.250000</td>\n",
       "      <td>0.000011</td>\n",
       "    </tr>\n",
       "  </tbody>\n",
       "</table>\n",
       "</div>"
      ],
      "text/plain": [
       "                review_id  topic                     rid  count       max      mean       min  stars      uavg       var\n",
       "0  ---sV8KdwfBoDw38KW_WnQ      0  VgLiSW1iGkpzIEXOgvUBEw      5  0.689383  0.558430  0.312919      3  3.285714  0.024112\n",
       "2  --0MzHNy7MVBRvZCOAeRPg      0  4gLecengX1JeGILm7DwU3w      3  0.746711  0.574416  0.360240      5  3.829268  0.038655\n",
       "4  --2NT40xmHh9oBLumzdjhA      0  4ZZab5hinFzHtj3sE8vQWg      5  0.764218  0.601008  0.337710      2  4.181818  0.026742\n",
       "6  --2Ylq1M_Toj6e0hy_C2XA      0  e9er1p-8RMyRa9IKUzKE-w      4  0.743135  0.613059  0.539191      4  3.500000  0.008469\n",
       "8  --3QRshg8GhfimzyGWkcAQ      0  T2zItRCqolfzSZR2Io0OZg      2  0.758943  0.756603  0.754264      5  3.250000  0.000011"
      ]
     },
     "execution_count": 26,
     "metadata": {},
     "output_type": "execute_result"
    }
   ],
   "source": [
    "c0df.head()"
   ]
  },
  {
   "cell_type": "markdown",
   "metadata": {},
   "source": [
    "## 5. Playing with probability"
   ]
  },
  {
   "cell_type": "markdown",
   "metadata": {},
   "source": [
    "Now that we have \"average\" probabilities with standard deviations set up on a per topic and per review basis, we can see what inferences we can set up with these probabilities."
   ]
  },
  {
   "cell_type": "markdown",
   "metadata": {},
   "source": [
    "For each of the LDA topics, and each restaurant, here we don't have a simple probability, but rather, a mean probability and a variance on this probability, \n",
    "\n",
    "What are these numbers?"
   ]
  },
  {
   "cell_type": "markdown",
   "metadata": {},
   "source": [
    "###Probabilities per review and topic"
   ]
  },
  {
   "cell_type": "markdown",
   "metadata": {},
   "source": [
    "**For the following discussion, let's limit the scope to one restaurant and one topic**. We will be writing the code to calculate these quantities for each restaurant and topic, but the math will all be done for one for simplicity.\n",
    "\n",
    "This restaurant will have a number of reviews ($i = 1, ..., r$), each review will have a number of sentences ($n_i$) about food. \n",
    "\n",
    "Each such sentence will have a probability of being positive $p_{ij}$, i.e. the probability that the $j^{th}$ sentence in the $i^{th}$ review (group) is positive.\n",
    "\n",
    "In order to do an analysis we need to make some distributional assumptions about the data we're observing. It's hard to make any distributional assumptions about the $p_{ij}$ themselves, they take values between 0 and 1, it would be possible to assume a Beta distribution. \n",
    "\n",
    "But in our case, because we're interested in the average \"positivity\" of the sentences for each review we'll be looking at \n",
    "\n",
    "$$\n",
    "\\bar{y}_{i} =  \\frac{1}{n_i} \\sum_{j = 1}^{n_i}p_{ij}\n",
    "$$\n",
    "\n",
    "\n",
    "Let's assume that this average is **normally distributed** for each review ($i = 1, ..., r$). This is a major assumption, we must assume that we have a sufficient number of sentences $n_i$ for each review $i = 1, ..., r$. This assumption is not always justified by our data, but we will use it anyways.\n",
    "\n",
    "At this point you might be doing a double take, saying the average is a number we just calculated. But note our assumptions, common to all statistical modeling.\n",
    "\n",
    "The $p_{ij}$ are statistical quantities to be estimated. Here the values we calculated for them are *estimates*. Similarly, the mean of the estimates is also a sample estimate. Another sample for the same-review, same restaurant (a bootstrap sample, if you like) would give slightly different estimates. So there is a quantity $\\bar{y}_{i}$ thats normally distributed and whose mean can be estimated by the sample mean we calculated.\n",
    "\n",
    "What about the variance of this normal. Its the variance of the sampling distribution of the means. So its the estimated variance we calculated divided by the number of sentences for each review and topic.\n",
    "\n",
    "This can be a bit confusing to understand. But it might help to assume that the quantities $p_{ij}$ are normally distributed with some mean and variance parameter, estimated by the review-topic mean and variance. Then we are just trying to get the sampling distribution of the mean. But we dont have to make this assumption.\n",
    "\n",
    "Notice what this also says about the range of possible values for $\\bar{y}_{i}$: we know by construction that it's between 0 and 1, however this modeling assumption says that it can take any values without restriction. Generally speaking this is a also bad assumption to make, but we'll see that it gives us tremendous leverage in terms of pooling information across reviews."
   ]
  },
  {
   "cell_type": "markdown",
   "metadata": {},
   "source": [
    "#### 5.1 What are the probabilities of classification for the two LDA topics?"
   ]
  },
  {
   "cell_type": "markdown",
   "metadata": {},
   "source": [
    "Ok, so then assume a _Gaussian distribution_ of probability means with parameter estimates the review means and variances. Now, using the CDF of the Gaussian like we did in _Homework 2_, we can calculate the _fraction of positive classifications_ for class 0 and class 1 (Use 0.5 as the threshold).\n",
    "\n",
    "First we define a function `prob` which takes as arguments a mean and a variance and returns the probability that a sample is positive. We will be using this function later as well.\n",
    "\n",
    "Notice we need to divide the variance by the count `num` in the formula below to convert from the in-sample variance to the variance of the sample mean. Put another way as compared to the paragraph above, the reason for this is that what we are interested in estimating here is not the average probability of a sentence, for say, topic 0 being positive, but rather the average probability of topic 0 in a review being positive."
   ]
  },
  {
   "cell_type": "code",
   "execution_count": 27,
   "metadata": {
    "collapsed": true
   },
   "outputs": [],
   "source": [
    "from scipy.special import erf\n",
    "prob= lambda mu, vari, num: .5 * (1 - erf((0.5- mu) / np.sqrt(2 * vari/float(num))))"
   ]
  },
  {
   "cell_type": "markdown",
   "metadata": {},
   "source": [
    "Now write code to report the fraction of reviews that are positive on each of the LDA classes"
   ]
  },
  {
   "cell_type": "code",
   "execution_count": 28,
   "metadata": {
    "collapsed": false
   },
   "outputs": [
    {
     "name": "stdout",
     "output_type": "stream",
     "text": [
      "c0: 0.851975168612 c1: 0.847180716312\n"
     ]
    },
    {
     "name": "stderr",
     "output_type": "stream",
     "text": [
      "/Users/hopemason/anaconda/lib/python2.7/site-packages/IPython/kernel/__main__.py:12: SettingWithCopyWarning: \n",
      "A value is trying to be set on a copy of a slice from a DataFrame.\n",
      "Try using .loc[row_indexer,col_indexer] = value instead\n",
      "\n",
      "See the the caveats in the documentation: http://pandas.pydata.org/pandas-docs/stable/indexing.html#indexing-view-versus-copy\n"
     ]
    }
   ],
   "source": [
    "def report_fraction_positive(df):\n",
    "    total_reviews = df.shape[0]\n",
    "    positive_reviews = 0\n",
    "    probs = []\n",
    "    for review_id, topic, rid, count, max, mean, min, stars, uavg, var in df.values:\n",
    "        probability = prob(mean, var, count)\n",
    "        probs.append(probability)\n",
    "        if probability > 0.5:\n",
    "            positive_reviews += 1\n",
    "            \n",
    "    fraction = float(positive_reviews) / float(total_reviews)\n",
    "    df[\"prob\"] = probs\n",
    "    \n",
    "    return fraction\n",
    "\n",
    "\n",
    "c0_fraction = report_fraction_positive(c0df)\n",
    "c1_fraction = report_fraction_positive(c1df)\n",
    "\n",
    "print \"c0:\", c0_fraction, \"c1:\", c1_fraction\n",
    "\n",
    "  "
   ]
  },
  {
   "cell_type": "markdown",
   "metadata": {},
   "source": [
    "Explain why these answers could be very different from the `priorp` and `priorn` we calculated earlier?. "
   ]
  },
  {
   "cell_type": "markdown",
   "metadata": {},
   "source": [
    "These answers are very different from priorp and priorn because the probability is calculated within the context of these topic clustters. "
   ]
  },
  {
   "cell_type": "markdown",
   "metadata": {},
   "source": [
    "### A single example."
   ]
  },
  {
   "cell_type": "markdown",
   "metadata": {},
   "source": [
    "For the business id 'T2zItRCqolfzSZR2Io0OZg',let us see what our class0 and class1 probability distributions look like"
   ]
  },
  {
   "cell_type": "code",
   "execution_count": 58,
   "metadata": {
    "collapsed": false
   },
   "outputs": [
    {
     "data": {
      "text/html": [
       "<div>\n",
       "<table border=\"1\" class=\"dataframe\">\n",
       "  <thead>\n",
       "    <tr style=\"text-align: right;\">\n",
       "      <th></th>\n",
       "      <th>review_id</th>\n",
       "      <th>topic</th>\n",
       "      <th>rid</th>\n",
       "      <th>count</th>\n",
       "      <th>max</th>\n",
       "      <th>mean</th>\n",
       "      <th>min</th>\n",
       "      <th>stars</th>\n",
       "      <th>uavg</th>\n",
       "      <th>var</th>\n",
       "      <th>prob</th>\n",
       "    </tr>\n",
       "  </thead>\n",
       "  <tbody>\n",
       "    <tr>\n",
       "      <th>8</th>\n",
       "      <td>--3QRshg8GhfimzyGWkcAQ</td>\n",
       "      <td>0</td>\n",
       "      <td>T2zItRCqolfzSZR2Io0OZg</td>\n",
       "      <td>2</td>\n",
       "      <td>0.758943</td>\n",
       "      <td>0.756603</td>\n",
       "      <td>0.754264</td>\n",
       "      <td>5</td>\n",
       "      <td>3.250000</td>\n",
       "      <td>0.000011</td>\n",
       "      <td>1.000000</td>\n",
       "    </tr>\n",
       "    <tr>\n",
       "      <th>19430</th>\n",
       "      <td>7Mg3i3KvbFF5eSoRYoc48w</td>\n",
       "      <td>0</td>\n",
       "      <td>T2zItRCqolfzSZR2Io0OZg</td>\n",
       "      <td>1</td>\n",
       "      <td>0.751882</td>\n",
       "      <td>0.751882</td>\n",
       "      <td>0.751882</td>\n",
       "      <td>4</td>\n",
       "      <td>4.428571</td>\n",
       "      <td>0.000000</td>\n",
       "      <td>1.000000</td>\n",
       "    </tr>\n",
       "    <tr>\n",
       "      <th>64615</th>\n",
       "      <td>QxEQ5q7R0SWGL31niiETyg</td>\n",
       "      <td>0</td>\n",
       "      <td>T2zItRCqolfzSZR2Io0OZg</td>\n",
       "      <td>6</td>\n",
       "      <td>0.750458</td>\n",
       "      <td>0.667189</td>\n",
       "      <td>0.568503</td>\n",
       "      <td>4</td>\n",
       "      <td>3.463918</td>\n",
       "      <td>0.005438</td>\n",
       "      <td>1.000000</td>\n",
       "    </tr>\n",
       "    <tr>\n",
       "      <th>77013</th>\n",
       "      <td>WNDMIxVnfMI7wq7Lc9mi4Q</td>\n",
       "      <td>0</td>\n",
       "      <td>T2zItRCqolfzSZR2Io0OZg</td>\n",
       "      <td>2</td>\n",
       "      <td>0.876106</td>\n",
       "      <td>0.837516</td>\n",
       "      <td>0.798925</td>\n",
       "      <td>4</td>\n",
       "      <td>3.000000</td>\n",
       "      <td>0.002978</td>\n",
       "      <td>1.000000</td>\n",
       "    </tr>\n",
       "    <tr>\n",
       "      <th>94050</th>\n",
       "      <td>cmSaTa-eyoEAUSGThp5A4g</td>\n",
       "      <td>0</td>\n",
       "      <td>T2zItRCqolfzSZR2Io0OZg</td>\n",
       "      <td>3</td>\n",
       "      <td>0.838688</td>\n",
       "      <td>0.687485</td>\n",
       "      <td>0.611883</td>\n",
       "      <td>5</td>\n",
       "      <td>5.000000</td>\n",
       "      <td>0.017147</td>\n",
       "      <td>0.993429</td>\n",
       "    </tr>\n",
       "    <tr>\n",
       "      <th>134516</th>\n",
       "      <td>uBLMbE-Pa0IFx-xghripIQ</td>\n",
       "      <td>0</td>\n",
       "      <td>T2zItRCqolfzSZR2Io0OZg</td>\n",
       "      <td>2</td>\n",
       "      <td>0.810383</td>\n",
       "      <td>0.630500</td>\n",
       "      <td>0.450617</td>\n",
       "      <td>2</td>\n",
       "      <td>2.000000</td>\n",
       "      <td>0.064716</td>\n",
       "      <td>0.765919</td>\n",
       "    </tr>\n",
       "    <tr>\n",
       "      <th>141202</th>\n",
       "      <td>x72wx4MCuUV_-St6q2eROg</td>\n",
       "      <td>0</td>\n",
       "      <td>T2zItRCqolfzSZR2Io0OZg</td>\n",
       "      <td>3</td>\n",
       "      <td>0.890353</td>\n",
       "      <td>0.801496</td>\n",
       "      <td>0.749916</td>\n",
       "      <td>5</td>\n",
       "      <td>3.403846</td>\n",
       "      <td>0.005973</td>\n",
       "      <td>1.000000</td>\n",
       "    </tr>\n",
       "  </tbody>\n",
       "</table>\n",
       "</div>"
      ],
      "text/plain": [
       "                     review_id  topic                     rid  count       max      mean       min  stars      uavg       var      prob\n",
       "8       --3QRshg8GhfimzyGWkcAQ      0  T2zItRCqolfzSZR2Io0OZg      2  0.758943  0.756603  0.754264      5  3.250000  0.000011  1.000000\n",
       "19430   7Mg3i3KvbFF5eSoRYoc48w      0  T2zItRCqolfzSZR2Io0OZg      1  0.751882  0.751882  0.751882      4  4.428571  0.000000  1.000000\n",
       "64615   QxEQ5q7R0SWGL31niiETyg      0  T2zItRCqolfzSZR2Io0OZg      6  0.750458  0.667189  0.568503      4  3.463918  0.005438  1.000000\n",
       "77013   WNDMIxVnfMI7wq7Lc9mi4Q      0  T2zItRCqolfzSZR2Io0OZg      2  0.876106  0.837516  0.798925      4  3.000000  0.002978  1.000000\n",
       "94050   cmSaTa-eyoEAUSGThp5A4g      0  T2zItRCqolfzSZR2Io0OZg      3  0.838688  0.687485  0.611883      5  5.000000  0.017147  0.993429\n",
       "134516  uBLMbE-Pa0IFx-xghripIQ      0  T2zItRCqolfzSZR2Io0OZg      2  0.810383  0.630500  0.450617      2  2.000000  0.064716  0.765919\n",
       "141202  x72wx4MCuUV_-St6q2eROg      0  T2zItRCqolfzSZR2Io0OZg      3  0.890353  0.801496  0.749916      5  3.403846  0.005973  1.000000"
      ]
     },
     "execution_count": 58,
     "metadata": {},
     "output_type": "execute_result"
    }
   ],
   "source": [
    "c0df[c0df.rid=='T2zItRCqolfzSZR2Io0OZg']"
   ]
  },
  {
   "cell_type": "code",
   "execution_count": 59,
   "metadata": {
    "collapsed": false
   },
   "outputs": [
    {
     "data": {
      "text/html": [
       "<div>\n",
       "<table border=\"1\" class=\"dataframe\">\n",
       "  <thead>\n",
       "    <tr style=\"text-align: right;\">\n",
       "      <th></th>\n",
       "      <th>review_id</th>\n",
       "      <th>topic</th>\n",
       "      <th>rid</th>\n",
       "      <th>count</th>\n",
       "      <th>max</th>\n",
       "      <th>mean</th>\n",
       "      <th>min</th>\n",
       "      <th>stars</th>\n",
       "      <th>uavg</th>\n",
       "      <th>var</th>\n",
       "      <th>prob</th>\n",
       "    </tr>\n",
       "  </thead>\n",
       "  <tbody>\n",
       "    <tr>\n",
       "      <th>9</th>\n",
       "      <td>--3QRshg8GhfimzyGWkcAQ</td>\n",
       "      <td>1</td>\n",
       "      <td>T2zItRCqolfzSZR2Io0OZg</td>\n",
       "      <td>1</td>\n",
       "      <td>0.888077</td>\n",
       "      <td>0.888077</td>\n",
       "      <td>0.888077</td>\n",
       "      <td>5</td>\n",
       "      <td>3.250000</td>\n",
       "      <td>0.000000</td>\n",
       "      <td>1.000000</td>\n",
       "    </tr>\n",
       "    <tr>\n",
       "      <th>19431</th>\n",
       "      <td>7Mg3i3KvbFF5eSoRYoc48w</td>\n",
       "      <td>1</td>\n",
       "      <td>T2zItRCqolfzSZR2Io0OZg</td>\n",
       "      <td>4</td>\n",
       "      <td>0.746711</td>\n",
       "      <td>0.567850</td>\n",
       "      <td>0.294765</td>\n",
       "      <td>4</td>\n",
       "      <td>4.428571</td>\n",
       "      <td>0.041787</td>\n",
       "      <td>0.746603</td>\n",
       "    </tr>\n",
       "    <tr>\n",
       "      <th>26393</th>\n",
       "      <td>AO3QETuRVA_e5Nn6VFOKUQ</td>\n",
       "      <td>1</td>\n",
       "      <td>T2zItRCqolfzSZR2Io0OZg</td>\n",
       "      <td>2</td>\n",
       "      <td>0.628768</td>\n",
       "      <td>0.626272</td>\n",
       "      <td>0.623777</td>\n",
       "      <td>5</td>\n",
       "      <td>5.000000</td>\n",
       "      <td>0.000012</td>\n",
       "      <td>1.000000</td>\n",
       "    </tr>\n",
       "    <tr>\n",
       "      <th>64616</th>\n",
       "      <td>QxEQ5q7R0SWGL31niiETyg</td>\n",
       "      <td>1</td>\n",
       "      <td>T2zItRCqolfzSZR2Io0OZg</td>\n",
       "      <td>5</td>\n",
       "      <td>0.692375</td>\n",
       "      <td>0.626948</td>\n",
       "      <td>0.605831</td>\n",
       "      <td>4</td>\n",
       "      <td>3.463918</td>\n",
       "      <td>0.001345</td>\n",
       "      <td>1.000000</td>\n",
       "    </tr>\n",
       "    <tr>\n",
       "      <th>94051</th>\n",
       "      <td>cmSaTa-eyoEAUSGThp5A4g</td>\n",
       "      <td>1</td>\n",
       "      <td>T2zItRCqolfzSZR2Io0OZg</td>\n",
       "      <td>2</td>\n",
       "      <td>0.844971</td>\n",
       "      <td>0.838555</td>\n",
       "      <td>0.832139</td>\n",
       "      <td>5</td>\n",
       "      <td>5.000000</td>\n",
       "      <td>0.000082</td>\n",
       "      <td>1.000000</td>\n",
       "    </tr>\n",
       "    <tr>\n",
       "      <th>141203</th>\n",
       "      <td>x72wx4MCuUV_-St6q2eROg</td>\n",
       "      <td>1</td>\n",
       "      <td>T2zItRCqolfzSZR2Io0OZg</td>\n",
       "      <td>1</td>\n",
       "      <td>0.758943</td>\n",
       "      <td>0.758943</td>\n",
       "      <td>0.758943</td>\n",
       "      <td>5</td>\n",
       "      <td>3.403846</td>\n",
       "      <td>0.000000</td>\n",
       "      <td>1.000000</td>\n",
       "    </tr>\n",
       "  </tbody>\n",
       "</table>\n",
       "</div>"
      ],
      "text/plain": [
       "                     review_id  topic                     rid  count       max      mean       min  stars      uavg       var      prob\n",
       "9       --3QRshg8GhfimzyGWkcAQ      1  T2zItRCqolfzSZR2Io0OZg      1  0.888077  0.888077  0.888077      5  3.250000  0.000000  1.000000\n",
       "19431   7Mg3i3KvbFF5eSoRYoc48w      1  T2zItRCqolfzSZR2Io0OZg      4  0.746711  0.567850  0.294765      4  4.428571  0.041787  0.746603\n",
       "26393   AO3QETuRVA_e5Nn6VFOKUQ      1  T2zItRCqolfzSZR2Io0OZg      2  0.628768  0.626272  0.623777      5  5.000000  0.000012  1.000000\n",
       "64616   QxEQ5q7R0SWGL31niiETyg      1  T2zItRCqolfzSZR2Io0OZg      5  0.692375  0.626948  0.605831      4  3.463918  0.001345  1.000000\n",
       "94051   cmSaTa-eyoEAUSGThp5A4g      1  T2zItRCqolfzSZR2Io0OZg      2  0.844971  0.838555  0.832139      5  5.000000  0.000082  1.000000\n",
       "141203  x72wx4MCuUV_-St6q2eROg      1  T2zItRCqolfzSZR2Io0OZg      1  0.758943  0.758943  0.758943      5  3.403846  0.000000  1.000000"
      ]
     },
     "execution_count": 59,
     "metadata": {},
     "output_type": "execute_result"
    }
   ],
   "source": [
    "c1df[c1df.rid=='T2zItRCqolfzSZR2Io0OZg']"
   ]
  },
  {
   "cell_type": "markdown",
   "metadata": {},
   "source": [
    "#### 5.2 Plots of probability vs star rating"
   ]
  },
  {
   "cell_type": "markdown",
   "metadata": {},
   "source": [
    "For both class 0 and class 1 , we plot the star rating against the probability means with a 1-sigma error bar. Make the plots **side-by-side** for easier comparison and jitter the vertical position (the star rating) with a bit of random noise for clarity. Make sure the x-range of the plot is from 0 to 1. Use a dot for the mean, changing the point size using the count of the number of sentences used in the review. (you will need to overlay a `plt.scatter` for this). Once again, dont forget to divide the probability variance by the count. If the variance is 0, set it to 4. This happens because there was not enough data to estimate the probabilities well so we should assume we are very diffuse in its knowledge"
   ]
  },
  {
   "cell_type": "code",
   "execution_count": 78,
   "metadata": {
    "collapsed": false
   },
   "outputs": [
    {
     "data": {
      "text/plain": [
       "<Container object of 3 artists>"
      ]
     },
     "execution_count": 78,
     "metadata": {},
     "output_type": "execute_result"
    },
    {
     "data": {
      "image/png": "[encoded data removed]",
      "text/plain": [
       "<matplotlib.figure.Figure at 0x10f8bf290>"
      ]
     },
     "metadata": {},
     "output_type": "display_data"
    }
   ],
   "source": [
    "class_0 = c0df[c0df.rid=='T2zItRCqolfzSZR2Io0OZg']\n",
    "class_1 = c1df[c1df.rid=='T2zItRCqolfzSZR2Io0OZg']\n",
    "\n",
    "stars_to_plot = []\n",
    "means = []\n",
    "yerr = []\n",
    "for row in class_0.values:\n",
    "    stars = row[7]\n",
    "    mean = row[5]\n",
    "    var = row[9]\n",
    "    if var == 0:\n",
    "        var = 4\n",
    "    stars_noise = stars + (0.04*np.random.randn())\n",
    "    stars_to_plot.append(stars_noise)\n",
    "    means.append(mean)\n",
    "    yerr.append(np.sqrt(var))\n",
    "\n",
    "    \n",
    "plt.errorbar(means,stars_to_plot, yerr=yerr, fmt=\".\")"
   ]
  },
  {
   "cell_type": "code",
   "execution_count": 77,
   "metadata": {
    "collapsed": false
   },
   "outputs": [
    {
     "data": {
      "text/plain": [
       "<Container object of 3 artists>"
      ]
     },
     "execution_count": 77,
     "metadata": {},
     "output_type": "execute_result"
    },
    {
     "data": {
      "image/png": "[encoded data removed]",
      "text/plain": [
       "<matplotlib.figure.Figure at 0x1170af0d0>"
      ]
     },
     "metadata": {},
     "output_type": "display_data"
    }
   ],
   "source": [
    "stars_to_plot = []\n",
    "means = []\n",
    "yerr = []\n",
    "for row in class_1.values:\n",
    "    stars = row[7]\n",
    "    mean = row[5]\n",
    "    var = row[9]\n",
    "    if var == 0:\n",
    "        var = 4\n",
    "    stars_noise = stars + (0.04*np.random.randn())\n",
    "    stars_to_plot.append(stars_noise)\n",
    "    means.append(mean)\n",
    "    yerr.append(np.sqrt(var))\n",
    "\n",
    "    \n",
    "plt.errorbar(means,stars_to_plot, yerr=yerr, fmt=\".\")"
   ]
  },
  {
   "cell_type": "markdown",
   "metadata": {},
   "source": [
    "Interpret the diagrams. Which probabilities would you believe more? Why?"
   ]
  },
  {
   "cell_type": "markdown",
   "metadata": {},
   "source": [
    "I would be inclined to believe the probabilities of topic 0 more. Even though the points have greater variance relative to those of topic 1, there is an evident correlation between the means and the ratings."
   ]
  },
  {
   "cell_type": "markdown",
   "metadata": {},
   "source": [
    "### A Bayesian analysis of sentence probabilities"
   ]
  },
  {
   "cell_type": "markdown",
   "metadata": {},
   "source": [
    "The main problem with our analysis, as you might have been able to see in the figure above, is that the estimates for the mean of the distribution of average review probability are (a) all over the place, and (b) can have substantial variance because in some reviews there were just not enough sentences.\n",
    "\n",
    "But we have enough reviews. Why not pool information across them?\n",
    "\n",
    "Also, in our analysis so far we have a probability distribution $p(\\text{class}=1 \\,|\\, \\text{review}, \\text{topic})$, but we got this distribution by doing point estimates for the mean and the variance. _The rest of this homework is showing you how to do a Bayesian analysis of the problem_. This means that instead of just estimating the mean of the probability for a review being positive on-average about the food, we consider this mean to be sample from an underlying distribution, which we will also assume to be a normal. And then the parameters of that distribution would have their own \"hyper-priors\" set on them. In other words, we are setting up a hierarchical model, just like the poisson-gamma model we did in the lab and that Joe talked about in lecture.\n",
    "\n",
    "We will not do a full Bayesian treatment, but use empirical Bayes to estimate the hyper parameters. We do not expect you to understand everything about this model, but enough to grasp the main concepts. Most of the hard parts of this section of the homework are done for you, but it is an interesting example for a lot of concepts you have seen in the lecture and in the lab. \n",
    "\n",
    "Back to our whole model, which now looks as follows:\n",
    "\n",
    "<img src=\"model.jpg\" width=640 height=600/>\n",
    "\n",
    "where $\\bar{y}_i$ is the mean probability that the review is positive about the food, $\\theta_i$ and $\\sigma_i$ are the parameters for the distribution describing our $\\bar{y}_i$ and $\\mu$ and $\\tau$ are the parameters of the distribution describing the $\\theta_i$. Note that we simplified our model a bit, we'll be assuming that the $\\sigma_i$ are fixed (in reality we estimated these so there should be come uncertainty). $n_i$ is the number of sentences in the review. Note that all these are for one topic. In the diagram above we've included the topic as an argument 0 or 1.\n",
    "\n",
    "By doing this analysis we can enhance our estimates for reviews which have very few sentences or conflicting statements. If we just regard each review by itself, we will have large error bars on these estimates. However, if we use the full Bayes model, reviews with a lot of sentences for a topic influence the estimate for $\\tau$ and $\\mu$ and thus help to reduce the error of our prediction for the short reviews, and shrink our estimates toward the overall mean. This is the power of pooling!"
   ]
  },
  {
   "cell_type": "markdown",
   "metadata": {},
   "source": [
    "### Assuming Normality"
   ]
  },
  {
   "cell_type": "markdown",
   "metadata": {},
   "source": [
    "Let's talk a bit more about the distributions for our hierarchical Bayes model.\n",
    "\n",
    "Once again, in our case, because we're interested in the average \"positivity\" of the sentences for each review we'll be looking at \n",
    "\n",
    "$$\n",
    "\\bar{y}_{i} =  \\frac{1}{n_i} \\sum_{j = 1}^{n_i}p_{ij}\n",
    "$$\n",
    "\n",
    "We'll say that $\\theta_i$ is the expected posterior probability of a review being positive about food. Similarly, $\\sigma_i^2$ is the review-specific variability. \n",
    "\n",
    "The idea is that if a particular review is very likely to write systematically positive sentences about food, we should be able to estimate that $\\theta_i$ is relatively large and $\\sigma_i^2$ is relatively small. If on the other hand, a review gives both positive and negative sentences we'll estimate $\\theta_i$ around 0.5 and a relatively large variance $\\sigma_i^2$. So, with all this in mind, let's make the following modeling assumption:\n",
    "\n",
    "$$\n",
    "\\bar{y}_{i} \\,|\\, \\theta_i \\sim N(\\theta_i, \\sigma_i^2)\n",
    "$$\n",
    "\n",
    "$$\n",
    "\\theta_i \\sim N(\\mu, \\tau^2)\n",
    "$$\n",
    "\n",
    "$\\theta_i$ is the parameter we were estimating by the review-topic mean earlier.\n",
    "\n",
    "The second of the formulae above will allow us to share information between reviews within each restaurant. To simplify the problem we'll treat $\\sigma_i^2$ as known and fixed, estimating them with \n",
    "\n",
    "$$\\sigma_i^2 = \\frac{1}{n_i} \\frac{1}{n_i-1} \\sum_{j = 1}^{n_i}(p_{ij} - \\bar{y}_{i})^2  = \\frac{1}{n_i} \\times \"Review-Topic\" Variance$$"
   ]
  },
  {
   "cell_type": "markdown",
   "metadata": {},
   "source": [
    "#### Posterior distribution"
   ]
  },
  {
   "cell_type": "markdown",
   "metadata": {},
   "source": [
    "After doing some math, we can calculate the posterior distribution:\n",
    "\n",
    "$$\n",
    "p(\\theta_i\\,|\\,\\bar{y}_{i})\\propto p(\\bar{y}_{i}\\,|\\,\\theta_i) p(\\theta_i)\n",
    "\\propto \\exp\\left(-\\frac{1}{2 \\sigma_i^2} \\left(\\bar{y}_{i}-\\theta_i\\right)^2\\right)  \\exp\\left(-\\frac{1}{2 \\tau^2} \\left(\\theta_i-\\mu\\right)^2\\right)\n",
    "$$\n",
    "\n",
    "After some amount of algebra you'll find that this is the kernel of a normal distribution with mean \n",
    "\n",
    "$\\frac{1}{\\sigma^2_{\\text{post}}}\\left(\\frac{\\mu}{\\tau^2} + \\frac{\\bar{y}_{i}}{\\sigma^2_{i}}\\right)$ \n",
    "\n",
    "and variance \n",
    "\n",
    "$ \\sigma^2_{\\text{post}} = \\left(\\frac{1}{\\tau^2} + \\frac{1}{\\sigma^2_{i}}\\right)^{-1}$. \n",
    "\n",
    "We can simplify the mean further to see a familiar form:\n",
    "\n",
    "$$\n",
    "\\mathbb{E}[\\theta_i\\,|\\,\\bar y_i, \\mu, \\sigma_i^2, \\tau^2] = \\frac{\\sigma_i^2}{\\sigma_i^2 + \\tau^2} \\mu + \\frac{\\tau^2}{\\sigma_i^2 + \\tau^2}\\bar{y}_{i}.\n",
    "$$\n",
    "\n",
    "The _posterior mean_ is a weighted average of the prior mean and the observed average. It may seem magical that the posterior distribution is Normal, we are after all simply taking two functions of $\\theta_i$, $p(\\bar{y}_{i}\\,|\\,\\theta_i)$ and $p(\\theta_i)$, manipulating things and seeing that it looks like a normal distribution. It turns out this has to do with a general concept in Bayesian statistics known as [conjugacy](https://en.wikipedia.org/wiki/Conjugate_prior). Conjugate distributions are nice because it makes these problems mathematically tractable."
   ]
  },
  {
   "cell_type": "markdown",
   "metadata": {},
   "source": [
    "Notice that we have introduced as part of our hierarchical modelling two new parameters $\\mu$ and $\\tau$. In a full Bayesian model we would put priors on them. Here, however, we wish to use Empirical Bayes!"
   ]
  },
  {
   "cell_type": "markdown",
   "metadata": {},
   "source": [
    "### Empirical Bayes "
   ]
  },
  {
   "cell_type": "markdown",
   "metadata": {},
   "source": [
    "We want Empirical Bayes estimates of $\\theta_i$, in the previous section we considered the posterior mean,\n",
    "$$\n",
    "\\mathbb{E}[\\theta_i|y_i, \\mu, \\sigma_i^2, \\tau^2] = \\frac{\\sigma_i^2}{\\sigma_i^2 + \\tau^2} \\mu + \\frac{\\tau^2}{\\sigma_i^2 + \\tau^2}\\bar{y}_{i},\n",
    "$$\n",
    "as an estimate of $\\theta_i$. But we have the problem of setting the prior parameters $(\\mu, \\tau^2)$. If we had some understanding of the data and some true prior beliefs for the distribution of the $\\theta_i$ values we might be able to set $\\mu$ and $\\tau^2$ reasonably. We saw in the [labs](https://github.com/cs109/2015lab9/blob/master/Bayes2.ipynb) that a common approach to this problem is to instead use the data to estimate these parameters. This is the Empirical Bayes (EB) approach. \n",
    "\n",
    "If done carefully, Empirical Bayes yields reasonable results without having to go through the process of building a prior. Generally when we want to find an Empirical Bayes estimate of the prior parameters, we look at the marginal distribution. Because our distributions were so carefully selected (i.e. normal prior, normal likelihood) it turns out that the marginal distribution of $\\bar{y}_{i}$ is also normally distributed. More detail anout this model using EB can be found at: http://www.stat.cmu.edu/~acthomas/724/Efron-Morris.pdf ."
   ]
  },
  {
   "cell_type": "markdown",
   "metadata": {},
   "source": [
    "$$\n",
    "p(\\bar{y}_{i}) = \\int p(\\bar{y}_{i},\\theta_i) \\ d \\theta_i = \\int p(\\bar{y}_{i}|\\theta_i)\\ p(\\theta_i) \\ d \\theta_i\n",
    "$$\n",
    "\n",
    "$$\n",
    " = \\int\\frac{1}{ \\sqrt{ 2 \\pi \\sigma_i^2}} \\exp\\left(-\\frac{1}{2 \\sigma_i^2} \\left(\\bar{y}_{i}-\\theta_i\\right)^2\\right) \\frac{1}{ \\sqrt{ 2 \\pi \\tau^2}} \\exp\\left(-\\frac{1}{2 \\tau^2} \\left(\\theta_i-\\mu\\right)^2\\right) \\ d\\theta_i\n",
    "$$\n",
    "\n",
    "After some algebra (i.e. completing the square magic) you'll find that the integral has a simple form, in particular you'll find that \n",
    "\n",
    "$$\n",
    "p(\\bar{y}_{i}) = \\frac{1}{ \\sqrt{ 2 \\pi (\\tau^2 + \\sigma_i^2)}} \\exp\\left(-\\frac{1}{2 (\\tau^2 + \\sigma_i^2)} \\left(\\bar{y}_{i}-\\mu\\right)^2\\right) \n",
    "$$\n",
    "\n",
    "You don't need to do this now, but if you're interested - try it. "
   ]
  },
  {
   "cell_type": "markdown",
   "metadata": {},
   "source": [
    "#### Marginal Distribution of data"
   ]
  },
  {
   "cell_type": "markdown",
   "metadata": {},
   "source": [
    "What's important to us right now is that marginally we can write the distribution of $\\bar{y}_{i}$ as\n",
    "$$\n",
    "\\bar{y}_{i} \\sim N(\\mu,\\  \\tau^2+\\sigma_i^2)\n",
    "$$"
   ]
  },
  {
   "cell_type": "markdown",
   "metadata": {},
   "source": [
    "### Estimating $\\mu$"
   ]
  },
  {
   "cell_type": "markdown",
   "metadata": {},
   "source": [
    "This result leads to some interesting EB estimates of $\\mu$ and $\\tau^2$, in particular we can see that using $\\hat\\mu_i = \\bar{y}_{i}$ is an unbiased estimate, since\n",
    "$$\n",
    "\\mathbb{E}[\\bar{y}_{i}] = \\mu.\n",
    "$$"
   ]
  },
  {
   "cell_type": "markdown",
   "metadata": {},
   "source": [
    "#### 5.3 Write a function to calculate the overall mean of all reviews for a given restaurant"
   ]
  },
  {
   "cell_type": "markdown",
   "metadata": {},
   "source": [
    "Write the function `restaurant_mean` which calculates the simple overall mean of all the sentence probabilities for a particular restaurant. We will use this simple overall mean as an initial estimate of $\\mu$.\n",
    "\n",
    "Its signature is:\n",
    "\n",
    "`def restaurant_mean(rid, revids, group_means, group_counts)`\n",
    "\n",
    "where `rid` is the restaurant_id, `revids` are the individual review ids (you dont need these but you might find them useful for debugging). `group_means` is a list of means, one from each review. `group_counts` is the number of sentences used from each review. The function should return the average. (`np.average` is your friend)."
   ]
  },
  {
   "cell_type": "code",
   "execution_count": 41,
   "metadata": {
    "collapsed": true
   },
   "outputs": [],
   "source": [
    "def restaurant_mean(rid, revids, group_means, group_counts):\n",
    "    group_counts = group_counts / group_counts.count()\n",
    "    return np.average(group_means, weights=group_counts)\n"
   ]
  },
  {
   "cell_type": "markdown",
   "metadata": {},
   "source": [
    "We use this function you defined to create dictionaries of overall restaurant means:"
   ]
  },
  {
   "cell_type": "code",
   "execution_count": 42,
   "metadata": {
    "collapsed": false
   },
   "outputs": [],
   "source": [
    "classzero_restmeans={}\n",
    "for k,v in c0df.groupby('rid'):\n",
    "    rmean=restaurant_mean(k, v['review_id'], v['mean'], v['count'])\n",
    "    classzero_restmeans[k]=rmean"
   ]
  },
  {
   "cell_type": "code",
   "execution_count": 43,
   "metadata": {
    "collapsed": true
   },
   "outputs": [],
   "source": [
    "classone_restmeans={}\n",
    "for k,v in c1df.groupby('rid'):\n",
    "    rmean=restaurant_mean(k, v['review_id'], v['mean'], v['count'])\n",
    "    classone_restmeans[k]=rmean"
   ]
  },
  {
   "cell_type": "markdown",
   "metadata": {},
   "source": [
    "#### A better estimate of $\\mu$."
   ]
  },
  {
   "cell_type": "markdown",
   "metadata": {},
   "source": [
    "But we actually have an estimate from the $r$ different reviews. It turns out we can pool these estimates together to get an much better estimate by doing _Fisher Weighting_. The idea of these weighted estimates are that estimates that have large variances should be trusted less than estimates with small variances. In this case\n",
    "$$\n",
    "var(\\bar{y}_{i}) = \\tau^2+\\sigma_i^2,\n",
    "$$\n",
    "so the weighted estimate is\n",
    "\n",
    "$$\n",
    "\\hat\\mu = \\sum_{i = 1}^r w_i\\bar{y}_{i}\n",
    "$$\n",
    "$$\n",
    "w_i = \\frac{(\\tau^2+\\sigma_i^2)^{-1}}{\\sum_{j = 1}^r (\\tau^2+\\sigma_j^2)^{-1}}\n",
    "$$\n",
    "\n",
    "This leads to the further issue that the estimate actually depends on $\\tau^2$, so we'll need an estimate of it as well."
   ]
  },
  {
   "cell_type": "markdown",
   "metadata": {},
   "source": [
    "### Compute the estimated $\\tau^2$"
   ]
  },
  {
   "cell_type": "markdown",
   "metadata": {},
   "source": [
    "Estimating $\\tau^2$ turns out to be slightly more complex. In order to get this we'll consider another quantity based on the _marginal distribution_ of $\\bar{y}_{i}$,\n",
    "\n",
    "$$\n",
    "\\bar{y}_{i} \\sim N(\\mu,\\  \\tau^2+\\sigma_i^2).\n",
    "$$\n",
    "\n",
    "In particular, the quantity and its distribution is\n",
    "\n",
    "$$\n",
    "\\frac{(\\bar{y}_{i} - \\mu)^2}{\\tau^2+\\sigma_i^2} \\sim \\chi_1^2,\n",
    "$$\n",
    "where $\\chi_1^2$  is the [chi-square distribution](https://en.wikipedia.org/wiki/Chi-squared_distribution). \n",
    "\n",
    "We can use this fact to get an unbiased estimate of $\\tau^2$ as \n",
    "\n",
    "$$\n",
    "\\hat\\tau_i^2 = (\\bar{y}_{i} - \\mu)^2 - \\sigma_i^2.\n",
    "$$\n",
    "\n",
    "This is unbiased because the expected value of a $\\chi_1^2$ is 1. Hence \n",
    "\n",
    "$$\n",
    "\\frac{\\mathbb{E}[(\\bar{y}_{i} - \\mu)^2]}{\\tau^2+\\sigma_i^2} = 1\n",
    "$$\n",
    "$$\n",
    "\\mathbb{E}[(\\bar{y}_{i} - \\mu)^2] = \\tau^2+\\sigma_i^2\n",
    "$$\n",
    "\n",
    "So, the expected value of our estimate is $\\tau^2$:\n",
    "\n",
    "$$\n",
    "\\mathbb{E}[\\hat\\tau_i^2] = \\mathbb{E}[(\\bar{y}_{i} - \\mu)^2] - \\sigma_i^2\n",
    "$$\n",
    "$$\n",
    "= \\tau^2+\\sigma_i^2 - \\sigma_i^2 = \\tau^2.\n",
    "$$\n",
    "\n",
    "Now, note that we'll have many estimates of $\\tau^2$, but we only need one. The simplest thing to do is to do an unweighted average of the $\\hat\\tau_i^2$ to estimate $\\tau^2$."
   ]
  },
  {
   "cell_type": "markdown",
   "metadata": {},
   "source": [
    "#### Simple initial estimate of $\\tau^2$"
   ]
  },
  {
   "cell_type": "markdown",
   "metadata": {},
   "source": [
    "This function has the signature\n",
    "\n",
    "`def tausq_est(df, restmeans)`\n",
    "\n",
    "where `df` is the dataframe for one of the topics, and `restmeans` is the dictionary pertaining to that topic which we calculated above. To do this, we implement the equation from above:\n",
    "\n",
    "$$\n",
    "\\hat\\tau_i^2 = (\\bar{y}_{i} - \\mu)^2 - \\sigma_i^2.\n",
    "$$\n",
    "\n",
    "Remember that in computing $\\sigma_i^2$ we must divide the in-sample variances we calculated in the last notebook by the count."
   ]
  },
  {
   "cell_type": "code",
   "execution_count": 44,
   "metadata": {
    "collapsed": true
   },
   "outputs": [],
   "source": [
    "def tausq_est(df, restmeans):\n",
    "    diff = df['mean']-df['rid'].apply(lambda rid: restmeans[rid])\n",
    "    return (diff*diff - df['var']/df['count'])"
   ]
  },
  {
   "cell_type": "markdown",
   "metadata": {},
   "source": [
    "Let us use this equation to estimate $\\tau^2$ estimates for both our classes:"
   ]
  },
  {
   "cell_type": "code",
   "execution_count": 45,
   "metadata": {
    "collapsed": true
   },
   "outputs": [],
   "source": [
    "c0df_tausqest=tausq_est(c0df, classzero_restmeans)\n",
    "c1df_tausqest=tausq_est(c1df, classone_restmeans)"
   ]
  },
  {
   "cell_type": "code",
   "execution_count": 46,
   "metadata": {
    "collapsed": false
   },
   "outputs": [
    {
     "data": {
      "text/plain": [
       "(0.36928762211408289, 0.32443379196310734)"
      ]
     },
     "execution_count": 46,
     "metadata": {},
     "output_type": "execute_result"
    }
   ],
   "source": [
    "np.mean(c0df_tausqest <= 0.), np.mean(c1df_tausqest <= 0.)"
   ]
  },
  {
   "cell_type": "markdown",
   "metadata": {},
   "source": [
    "Note that many of these estimates are negative. This is not surprising: what it means is that the within review variance is larger than the variance of the means from each review. Imagine a case in which sentences in a review are all over the place on the quality of service/ambiance etc. Imagine multiple such reviews. Then the mean probabilities from these reviews might be close while the in-review variance is large.\n",
    "\n",
    "We make a copy of `c0df` and `c1df` and add a column to each one of them so that we can average these estimates to estimate $\\tau^2$ for each restaurant."
   ]
  },
  {
   "cell_type": "code",
   "execution_count": 47,
   "metadata": {
    "collapsed": true
   },
   "outputs": [],
   "source": [
    "c0df_small=c0df.copy()\n",
    "c1df_small=c1df.copy()"
   ]
  },
  {
   "cell_type": "code",
   "execution_count": 48,
   "metadata": {
    "collapsed": true
   },
   "outputs": [],
   "source": [
    "c0df_small['tausqest']=c0df_tausqest\n",
    "c1df_small['tausqest']=c1df_tausqest"
   ]
  },
  {
   "cell_type": "markdown",
   "metadata": {},
   "source": [
    "Let's calculate the $\\tau^2$ for each restaurant and topic. If the averaged $\\tau^2$ estimate is less than 0, we set it to 0."
   ]
  },
  {
   "cell_type": "code",
   "execution_count": 49,
   "metadata": {
    "collapsed": false
   },
   "outputs": [],
   "source": [
    "classzero_resttausqs={}\n",
    "for k,v in c0df_small.groupby('rid'):\n",
    "    rtau=v['tausqest'].mean()\n",
    "    if rtau <0:\n",
    "        rtau=0\n",
    "    classzero_resttausqs[k]=rtau"
   ]
  },
  {
   "cell_type": "code",
   "execution_count": 50,
   "metadata": {
    "collapsed": true
   },
   "outputs": [],
   "source": [
    "classone_resttausqs={}\n",
    "for k,v in c1df_small.groupby('rid'):\n",
    "    rtau=v['tausqest'].mean()\n",
    "    if rtau <0:\n",
    "        rtau=0\n",
    "    classone_resttausqs[k]=rtau"
   ]
  },
  {
   "cell_type": "markdown",
   "metadata": {},
   "source": [
    "### Iterating Once More"
   ]
  },
  {
   "cell_type": "markdown",
   "metadata": {},
   "source": [
    "Now we have estimations of $\\mu$ and $\\tau^2$ for each restaurant and topic. We could stop here. But as we saw with the formula for the mean earlier, Fisher weighting can give us much better estimates. So we iterate once more, Computing new $\\tau^2$ estimates and then using them to compute an updated mean. those who dont particularly care about the math can just run the code and resume reading at the **Back to the posterior** section."
   ]
  },
  {
   "cell_type": "markdown",
   "metadata": {},
   "source": [
    "#### Fisher Weighting (again)"
   ]
  },
  {
   "cell_type": "markdown",
   "metadata": {},
   "source": [
    "Given $r$ unbiased estimates of $\\tau^2$, we can (once again) build a better estimate with a _Fisher Weighting_ scheme. Thus let's calculate the variance of each estimate $\\hat\\tau_i^2$.\n",
    "\n",
    "$$\n",
    "var(\\hat\\tau_i^2) = var\\left((\\bar{y}_{i} - \\mu)^2 - \\sigma_i^2\\right) =  var\\left((\\bar{y}_{i} - \\mu)^2\\right)\\\\\n",
    "= var\\left(\\frac{\\tau^2+\\sigma_i^2}{\\tau^2+\\sigma_i^2}(\\bar{y}_{i} - \\mu)^2\\right)\\\\\n",
    "= \\left(\\tau^2+\\sigma_i^2\\right)^2 \\ var\\left(\\frac{(\\bar{y}_{i} - \\mu)^2}{\\tau^2+\\sigma_i^2}\\right) = 2\\left(\\tau^2+\\sigma_i^2\\right)^2\n",
    "$$"
   ]
  },
  {
   "cell_type": "markdown",
   "metadata": {},
   "source": [
    "We used some basic manipulations variance to arrive at this result, in particular for a constant $a$ and random variable $X$, $\\text{var}(aX + b) = \\text{var}(aX) = a^2 \\text{var}(X)$. Also the variance of a $\\chi^2_k$ random variable is $2k$.\n",
    "\n",
    "Hence the _Fisher Weighted_ estimate is:\n",
    "$$\n",
    "\\hat\\tau^2 = \\sum_{i = 1}^r w_i \\hat\\tau_i^2 = \\sum_{i = 1}^r w_i\\left((\\bar{y}_{i} - \\mu)^2 - \\sigma_i^2\\right)\\\\\n",
    "w_i = \\frac{\\left(\\tau^2+\\sigma_i^2\\right)^{-2}}{\\sum_{j = 1}^r \\left(\\tau^2+\\sigma_j^2\\right)^{-2}}\n",
    "$$"
   ]
  },
  {
   "cell_type": "markdown",
   "metadata": {},
   "source": [
    "#### Nearly There!"
   ]
  },
  {
   "cell_type": "markdown",
   "metadata": {},
   "source": [
    "You may have noticed that it seems we've doubled our problem here, recall that in our estimate of $\\mu$, $\\hat\\mu$, above we found that the _Fisher Weighting_ scheme actually depended on the unknown value $\\tau^2$. So we set out to estimate this unknown $\\tau^2$ using a similar method only to find out that $\\hat\\tau^2$ not only depends on $\\mu$, but it also depends on $\\tau^2$ itself!\n",
    "\n",
    "There are a few ways to fix this issue, notice first that the weights $w_i$ is a function of $\\tau^2$. Hence we can consider the very complex function of $\\tau^2$\n",
    "\n",
    "$$\n",
    "f(\\tau^2) = \\tau^2 - \\sum_{i = 1}^r w_i(\\tau^2) \\hat\\tau_i^2\n",
    "$$\n",
    "\n",
    "If we were to find the $\\tau^2$ that makes this zero it will be the solution to the _Fisher Weighted_ estimate above! \n",
    "\n",
    "Let us write a function which uses the data we have so far from a class-dependent input dataframe `df` and a restaurant_id `rid` to output this mathematical function. By writing a function which makes a function, we are capturing the existing data into the function we make. This construct is a common idiom in programming languages: its called a *closure*."
   ]
  },
  {
   "cell_type": "code",
   "execution_count": 51,
   "metadata": {
    "collapsed": false
   },
   "outputs": [],
   "source": [
    "def tfishmaker(subdf):\n",
    "    davars=subdf['var']/subdf['count']\n",
    "    tausqest=subdf['tausqest']\n",
    "    def tfish(tausq):\n",
    "        weights = 0.5/(tausq + davars)**2\n",
    "        return tausq - np.average(tausqest, weights=weights)\n",
    "    return tfish\n",
    "    "
   ]
  },
  {
   "cell_type": "markdown",
   "metadata": {},
   "source": [
    "We'll use a root finding method such as Newton's or the Secant method (as we dont specify derivatives here) to find the zero of this function. Here is an illustration. We might find different roots"
   ]
  },
  {
   "cell_type": "code",
   "execution_count": 52,
   "metadata": {
    "collapsed": false
   },
   "outputs": [
    {
     "name": "stdout",
     "output_type": "stream",
     "text": [
      "0.0165745225492\n",
      "0.0165745225492\n",
      "0.0165745225492\n"
     ]
    }
   ],
   "source": [
    "tfishfunc1=tfishmaker(c0df_small[c0df_small.rid=='7Q19H5nM3oFRyCg_j0QV1A'])\n",
    "print sp.optimize.newton(tfishfunc1, 1e-5,  maxiter=10000)\n",
    "print sp.optimize.newton(tfishfunc1, 0.001,  maxiter=10000)\n",
    "print sp.optimize.newton(tfishfunc1, 0.5,  maxiter=10000)"
   ]
  },
  {
   "cell_type": "code",
   "execution_count": 53,
   "metadata": {
    "collapsed": false
   },
   "outputs": [
    {
     "data": {
      "text/html": [
       "<div>\n",
       "<table border=\"1\" class=\"dataframe\">\n",
       "  <thead>\n",
       "    <tr style=\"text-align: right;\">\n",
       "      <th></th>\n",
       "      <th>review_id</th>\n",
       "      <th>topic</th>\n",
       "      <th>rid</th>\n",
       "      <th>count</th>\n",
       "      <th>max</th>\n",
       "      <th>mean</th>\n",
       "      <th>min</th>\n",
       "      <th>stars</th>\n",
       "      <th>uavg</th>\n",
       "      <th>var</th>\n",
       "      <th>prob</th>\n",
       "      <th>tausqest</th>\n",
       "    </tr>\n",
       "  </thead>\n",
       "  <tbody>\n",
       "    <tr>\n",
       "      <th>13105</th>\n",
       "      <td>4e60Z7XXyg_sW5ZC7lgwuA</td>\n",
       "      <td>0</td>\n",
       "      <td>7Q19H5nM3oFRyCg_j0QV1A</td>\n",
       "      <td>3</td>\n",
       "      <td>0.621870</td>\n",
       "      <td>0.607392</td>\n",
       "      <td>0.580353</td>\n",
       "      <td>4</td>\n",
       "      <td>3.484848</td>\n",
       "      <td>0.000549</td>\n",
       "      <td>1.000000</td>\n",
       "      <td>0.004837</td>\n",
       "    </tr>\n",
       "    <tr>\n",
       "      <th>17712</th>\n",
       "      <td>6cUiRycLJJTdxirq4wYeeA</td>\n",
       "      <td>0</td>\n",
       "      <td>7Q19H5nM3oFRyCg_j0QV1A</td>\n",
       "      <td>3</td>\n",
       "      <td>0.642955</td>\n",
       "      <td>0.581862</td>\n",
       "      <td>0.551278</td>\n",
       "      <td>4</td>\n",
       "      <td>4.000000</td>\n",
       "      <td>0.002799</td>\n",
       "      <td>0.996318</td>\n",
       "      <td>0.008356</td>\n",
       "    </tr>\n",
       "    <tr>\n",
       "      <th>35829</th>\n",
       "      <td>EYmU7894ggavJblqgRjKrw</td>\n",
       "      <td>0</td>\n",
       "      <td>7Q19H5nM3oFRyCg_j0QV1A</td>\n",
       "      <td>2</td>\n",
       "      <td>0.855913</td>\n",
       "      <td>0.823035</td>\n",
       "      <td>0.790157</td>\n",
       "      <td>5</td>\n",
       "      <td>5.000000</td>\n",
       "      <td>0.002162</td>\n",
       "      <td>1.000000</td>\n",
       "      <td>0.019884</td>\n",
       "    </tr>\n",
       "    <tr>\n",
       "      <th>45656</th>\n",
       "      <td>Ik5H0iRuRHlxu-lEco3O_g</td>\n",
       "      <td>0</td>\n",
       "      <td>7Q19H5nM3oFRyCg_j0QV1A</td>\n",
       "      <td>1</td>\n",
       "      <td>0.505631</td>\n",
       "      <td>0.505631</td>\n",
       "      <td>0.505631</td>\n",
       "      <td>4</td>\n",
       "      <td>4.250000</td>\n",
       "      <td>0.000000</td>\n",
       "      <td>1.000000</td>\n",
       "      <td>0.029795</td>\n",
       "    </tr>\n",
       "    <tr>\n",
       "      <th>80811</th>\n",
       "      <td>Y1y7aLCm2FB7OGStOdjt2w</td>\n",
       "      <td>0</td>\n",
       "      <td>7Q19H5nM3oFRyCg_j0QV1A</td>\n",
       "      <td>1</td>\n",
       "      <td>0.887410</td>\n",
       "      <td>0.887410</td>\n",
       "      <td>0.887410</td>\n",
       "      <td>5</td>\n",
       "      <td>5.000000</td>\n",
       "      <td>0.000000</td>\n",
       "      <td>1.000000</td>\n",
       "      <td>0.043751</td>\n",
       "    </tr>\n",
       "    <tr>\n",
       "      <th>124563</th>\n",
       "      <td>pyYgIfAVEiI_O3q4-5cd5g</td>\n",
       "      <td>0</td>\n",
       "      <td>7Q19H5nM3oFRyCg_j0QV1A</td>\n",
       "      <td>2</td>\n",
       "      <td>0.623134</td>\n",
       "      <td>0.621613</td>\n",
       "      <td>0.620092</td>\n",
       "      <td>3</td>\n",
       "      <td>4.028571</td>\n",
       "      <td>0.000005</td>\n",
       "      <td>1.000000</td>\n",
       "      <td>0.003205</td>\n",
       "    </tr>\n",
       "    <tr>\n",
       "      <th>132672</th>\n",
       "      <td>tOlB6mE3P7YE_hDyhqRTIg</td>\n",
       "      <td>0</td>\n",
       "      <td>7Q19H5nM3oFRyCg_j0QV1A</td>\n",
       "      <td>4</td>\n",
       "      <td>0.799162</td>\n",
       "      <td>0.750443</td>\n",
       "      <td>0.674174</td>\n",
       "      <td>5</td>\n",
       "      <td>4.252747</td>\n",
       "      <td>0.002857</td>\n",
       "      <td>1.000000</td>\n",
       "      <td>0.004499</td>\n",
       "    </tr>\n",
       "  </tbody>\n",
       "</table>\n",
       "</div>"
      ],
      "text/plain": [
       "                     review_id  topic                     rid  count       max      mean       min  stars      uavg       var      prob  tausqest\n",
       "13105   4e60Z7XXyg_sW5ZC7lgwuA      0  7Q19H5nM3oFRyCg_j0QV1A      3  0.621870  0.607392  0.580353      4  3.484848  0.000549  1.000000  0.004837\n",
       "17712   6cUiRycLJJTdxirq4wYeeA      0  7Q19H5nM3oFRyCg_j0QV1A      3  0.642955  0.581862  0.551278      4  4.000000  0.002799  0.996318  0.008356\n",
       "35829   EYmU7894ggavJblqgRjKrw      0  7Q19H5nM3oFRyCg_j0QV1A      2  0.855913  0.823035  0.790157      5  5.000000  0.002162  1.000000  0.019884\n",
       "45656   Ik5H0iRuRHlxu-lEco3O_g      0  7Q19H5nM3oFRyCg_j0QV1A      1  0.505631  0.505631  0.505631      4  4.250000  0.000000  1.000000  0.029795\n",
       "80811   Y1y7aLCm2FB7OGStOdjt2w      0  7Q19H5nM3oFRyCg_j0QV1A      1  0.887410  0.887410  0.887410      5  5.000000  0.000000  1.000000  0.043751\n",
       "124563  pyYgIfAVEiI_O3q4-5cd5g      0  7Q19H5nM3oFRyCg_j0QV1A      2  0.623134  0.621613  0.620092      3  4.028571  0.000005  1.000000  0.003205\n",
       "132672  tOlB6mE3P7YE_hDyhqRTIg      0  7Q19H5nM3oFRyCg_j0QV1A      4  0.799162  0.750443  0.674174      5  4.252747  0.002857  1.000000  0.004499"
      ]
     },
     "execution_count": 53,
     "metadata": {},
     "output_type": "execute_result"
    }
   ],
   "source": [
    "c0df_small[c0df_small.rid=='7Q19H5nM3oFRyCg_j0QV1A']"
   ]
  },
  {
   "cell_type": "markdown",
   "metadata": {},
   "source": [
    "#### Some considerations with this zero-finding (optimization)"
   ]
  },
  {
   "cell_type": "markdown",
   "metadata": {},
   "source": [
    "As with any optimization problem there are several things to take into consideration. In particular we should ask ourselves what is the range of acceptable values for the zero? In this case $\\tau^2$ represents a variance quantity, hence must be positive. We can restrict our search to positive values. Another thing to consider is starting values, this is an optimization that may or may not have one unique zero, meaning that there could be several values of $\\tau^2$ that make $f(\\tau^2) = 0$ -- based on our definition these are all legitimate estimates. In this case we should think about what exactly it means to choose a larger value of $\\tau^2$ over a smaller one. Recall the end goal is to estimate $\\theta_i$, we're proposing to look at the posterior mean\n",
    "\n",
    "$$\n",
    "\\hat\\theta_i = \\mathbb{E}[\\theta_i|y_i, \\mu, \\sigma_i^2, \\tau^2] = \\frac{\\tau^2}{\\sigma_i^2 + \\tau^2} \\mu + \\frac{\\sigma_i^2}{\\sigma_i^2 + \\tau^2}\\bar{y}_{i},\n",
    "$$\n",
    "\n",
    "If we choose a larger value of $\\tau^2$, we will weight the overall mean ($\\mu$) more than if we use a smaller value of $\\tau^2$. In effect we're trusting the overall mean \"positivity\" over all reviews much more when $\\tau^2$ is larger, this is higher shrinkage -- this is more conservative. We'll opt for this more conservative choice, we'll choose the larger values of $\\tau^2$ that solve $f(\\tau^2) = 0$."
   ]
  },
  {
   "cell_type": "markdown",
   "metadata": {},
   "source": [
    "We write some code to do this, with some debugging code thrown in. Notice we use the old direct-averaged $\\tau^2$'s we calculated to set an initialization. You might need to fiddle with init for all restaurant estimations to converge. Once again, if the averaged $\\tau^2$ we find is less than 0, we set it to 0. We save our outputs in `classzero_resttausqs_1` and `classone_resttausqs_1` dictionaries, the `_1` denoting this additional iteration.\n",
    "\n",
    "In all of these functions we handle and print out edge cases."
   ]
  },
  {
   "cell_type": "code",
   "execution_count": 54,
   "metadata": {
    "collapsed": false
   },
   "outputs": [],
   "source": [
    "classzero_resttausqs_1={}\n",
    "counter=0\n",
    "edgecases0=[]\n",
    "for k,v in c0df_small.groupby('rid'):\n",
    "    if v.shape[0]==1:\n",
    "        rtau=0\n",
    "    else:\n",
    "        tfunc = tfishmaker(v)\n",
    "        try:\n",
    "            init=classzero_resttausqs[k]\n",
    "            if init==0:\n",
    "                init=0.001\n",
    "            else:\n",
    "                init=0.1\n",
    "            rtau=sp.optimize.newton(tfunc, init, maxiter=10000)\n",
    "        except:\n",
    "            print \">>\",k, classzero_resttausqs[k], v.shape[0]\n",
    "            #raise ValueError\n",
    "            rtau=0.\n",
    "            edgecases0.append((k,classzero_resttausqs[k], 100))\n",
    "        if rtau <0:\n",
    "            rtau=0.\n",
    "            edgecases0.append((k,classzero_resttausqs[k], -100))\n",
    "    classzero_resttausqs_1[k]=rtau"
   ]
  },
  {
   "cell_type": "code",
   "execution_count": 55,
   "metadata": {
    "collapsed": false
   },
   "outputs": [
    {
     "name": "stdout",
     "output_type": "stream",
     "text": [
      ">> 0YEbfeYZXkcTwjos9cgaEA 0.0 2\n"
     ]
    }
   ],
   "source": [
    "classone_resttausqs_1={}\n",
    "edgecases1=[]\n",
    "for k,v in c1df_small.groupby('rid'):\n",
    "    if v.shape[0]==1:\n",
    "        rtau=0\n",
    "    else:\n",
    "        tfunc = tfishmaker(v)\n",
    "        try:\n",
    "            init=classone_resttausqs[k]\n",
    "            if init==0:\n",
    "                init=0.001\n",
    "            else:\n",
    "                init=0.1\n",
    "            rtau=sp.optimize.newton(tfunc, init, maxiter=10000)\n",
    "        except:\n",
    "            print \">>\",k, classone_resttausqs[k], v.shape[0]\n",
    "            #raise ValueError\n",
    "            rtau=0\n",
    "            edgecases1.append((k,classone_resttausqs[k], 100))\n",
    "        if rtau <0:\n",
    "            rtau=0\n",
    "            edgecases1.append((k,classone_resttausqs[k], -100))\n",
    "    classone_resttausqs_1[k]=rtau"
   ]
  },
  {
   "cell_type": "markdown",
   "metadata": {},
   "source": [
    "#### Calculate an updated, Fisher weighted mean."
   ]
  },
  {
   "cell_type": "markdown",
   "metadata": {},
   "source": [
    "Let's call this estimate $\\hat\\tau^2$. Now that we have a value of $\\hat\\tau^2$ we can estimate $\\mu$ using the other _Fisher Weighted_ estimate $\\hat\\mu = \\sum_{i = 1}^r w_i\\bar{y}_{i}$ that we came up with earlier.\n",
    "\n",
    "$$\n",
    "\\hat\\mu = \\sum_{i = 1}^r w_i\\bar{y}_{i}\n",
    "$$\n",
    "$$\n",
    "w_i = \\frac{(\\tau^2+\\sigma_i^2)^{-1}}{\\sum_{j = 1}^r (\\tau^2+\\sigma_j^2)^{-1}}\n",
    "$$"
   ]
  },
  {
   "cell_type": "code",
   "execution_count": 56,
   "metadata": {
    "collapsed": true
   },
   "outputs": [],
   "source": [
    "def updated_mean(rid, revids, tausqdict, group_means, group_vars):\n",
    "    zeroweights=np.zeros(group_vars.shape[0])\n",
    "    tausq=tausqdict[rid]\n",
    "    upd_vars=tausq+group_vars\n",
    "    if group_means.shape[0]==1:\n",
    "        return group_means.values[0]\n",
    "    whichisnan=np.isinf(1./upd_vars)\n",
    "    weights=np.where(whichisnan, zeroweights, 1./upd_vars)\n",
    "    if np.sum(weights)==0.0:\n",
    "        print weights\n",
    "        print \">>>\", rid, group_means.values, tausqdict[k], group_vars.values\n",
    "        av=np.average(group_means, weights=np.ones(group_vars.shape[0]))\n",
    "        return av\n",
    "    av=np.average(group_means, weights=weights)\n",
    "    if  np.isnan(av):\n",
    "        print rid, group_means.shape[0]\n",
    "        print \">>>\",tausq\n",
    "        print group_means\n",
    "        print group_vars\n",
    "        print zip(revids,weights)\n",
    "    return av"
   ]
  },
  {
   "cell_type": "markdown",
   "metadata": {},
   "source": [
    "We use the function to create two dictionaries `classzero_updmeans` and similar for class one, storing the updated means there. Notice that we can now go back to estimating $\\hat\\tau^2$ using this new $\\hat \\mu$ estimate, and so on, until complete convergence. Here we'll just stop here as our main aim is to understand shrinkage."
   ]
  },
  {
   "cell_type": "code",
   "execution_count": 57,
   "metadata": {
    "collapsed": false
   },
   "outputs": [],
   "source": [
    "classzero_updmeans={}\n",
    "for k,v in c0df.groupby('rid'):\n",
    "    umean=updated_mean(k, v['review_id'], classzero_resttausqs_1, v['mean'], v['var']/v['count'])\n",
    "    classzero_updmeans[k]=umean"
   ]
  },
  {
   "cell_type": "code",
   "execution_count": 58,
   "metadata": {
    "collapsed": false
   },
   "outputs": [
    {
     "name": "stdout",
     "output_type": "stream",
     "text": [
      "[ 0.  0.]\n",
      ">>> 0YEbfeYZXkcTwjos9cgaEA [ 0.54518242  0.54518242] 0 [ 0.  0.]\n"
     ]
    }
   ],
   "source": [
    "classone_updmeans={}\n",
    "for k,v in c1df.groupby('rid'):\n",
    "    umean=updated_mean(k, v['review_id'], classone_resttausqs_1, v['mean'], v['var']/v['count'])\n",
    "    classone_updmeans[k]=umean"
   ]
  },
  {
   "cell_type": "markdown",
   "metadata": {},
   "source": [
    "### Back to the posterior"
   ]
  },
  {
   "cell_type": "markdown",
   "metadata": {},
   "source": [
    "We now use the formulae from before to calculate the posterior $\\theta$ and the posterior variance on those $\\theta$, writing two python functions `updated_theta` and `updated_revvar` for the purpose.\n",
    "\n",
    "Respectively, these are:\n",
    "\n",
    "$$\n",
    "\\mathbb{E}[\\theta_i|\\bar y_i, \\mu, \\sigma_i^2, \\tau^2] = \\frac{\\sigma_i^2}{\\sigma_i^2 + \\tau^2} \\mu + \\frac{\\tau^2}{\\sigma_i^2 + \\tau^2}\\bar{y}_{i}\n",
    "$$\n",
    "\n",
    "and \n",
    "\n",
    "$$ \n",
    "\\sigma^2_{i,\\ post} = \\left(\\frac{1}{\\tau^2} + \\frac{1}{\\sigma^2_{i}}\\right)^{-1}.\n",
    "$$\n",
    "\n",
    "The _posterior mean_ is a weighted average of the prior mean and the observed average. Notice that both of these functions take as arguments the updated mean estimate $\\hat \\mu$ and $\\hat \\tau^2$, as well as the review mean $\\bar y_i$ and review variance $\\sigma_i^2$ as arguments to obtain the posteriors.\n",
    "\n",
    "We deal with some edge cases:\n",
    "\n",
    "- One sentence in the review, In this case the variance estimate will be Infinity. We replace it with 4, effectively infinity in this scenario but still a workable value.\n",
    "- Negative $\\tau^2$ estimates, these are set to 0 earlier since $\\tau^2> 0$"
   ]
  },
  {
   "cell_type": "code",
   "execution_count": 59,
   "metadata": {
    "collapsed": true
   },
   "outputs": [],
   "source": [
    "def updated_theta(updmean, updtausq, revmean, revvar):\n",
    "    if revvar==0 or updtausq==0:\n",
    "        return updmean\n",
    "    num = (revmean/revvar) + (updmean/updtausq)\n",
    "    den = (1./revvar) + (1./updtausq)\n",
    "    av = num/den\n",
    "    if  np.isnan(av):\n",
    "        print updtausq\n",
    "    return av"
   ]
  },
  {
   "cell_type": "code",
   "execution_count": 60,
   "metadata": {
    "collapsed": true
   },
   "outputs": [],
   "source": [
    "def updated_revvar(updmean, updtausq, revmean, revvar):\n",
    "    if revvar==0 and updtausq!=0:\n",
    "        return updtausq\n",
    "    if updtausq==0 and revvar!=0:\n",
    "        return revvar\n",
    "    if updtausq==0 and revvar==0:\n",
    "        return 4#effectively infinite\n",
    "    den = (1./revvar) + (1./updtausq)\n",
    "    v = 1./den\n",
    "    if  np.isnan(v):\n",
    "        print updtausq\n",
    "    return v\n"
   ]
  },
  {
   "cell_type": "markdown",
   "metadata": {},
   "source": [
    "We use these functions in another function `doit` which takes a dictionary of updated $\\mu$ `updmeans` and updated $\\tau^2$ estimates `updtaus` to kick out the posteriors."
   ]
  },
  {
   "cell_type": "code",
   "execution_count": 61,
   "metadata": {
    "collapsed": false
   },
   "outputs": [],
   "source": [
    "def doit(df, updmeans, updtaus):\n",
    "    dftemp=pd.DataFrame()\n",
    "    dftemp['review_id']=df['review_id']\n",
    "    dftemp['rid']=df['rid']\n",
    "    dftemp['count']=df['count']\n",
    "    dftemp['mu']=df['rid'].apply(lambda r: updmeans[r])\n",
    "    dftemp['tau2']=df['rid'].apply(lambda r: updtaus[r])\n",
    "    dftemp['mean']=df['mean']\n",
    "    dftemp['var']=df['var']\n",
    "    dftemp['thetas']=dftemp.apply(lambda row: updated_theta(row['mu'],row['tau2'],row['mean'],row['var']/row['count']), axis=1)\n",
    "    dftemp['varthetas']=dftemp.apply(lambda row: updated_revvar(row['mu'],row['tau2'],row['mean'],row['var']/row['count']), axis=1)\n",
    "\n",
    "    return dftemp"
   ]
  },
  {
   "cell_type": "markdown",
   "metadata": {},
   "source": [
    "Lets do it for topic 0:"
   ]
  },
  {
   "cell_type": "code",
   "execution_count": 62,
   "metadata": {
    "collapsed": false
   },
   "outputs": [],
   "source": [
    "c0df_eb=doit(c0df, classzero_updmeans, classzero_resttausqs_1)"
   ]
  },
  {
   "cell_type": "code",
   "execution_count": 63,
   "metadata": {
    "collapsed": false
   },
   "outputs": [
    {
     "data": {
      "text/html": [
       "<div>\n",
       "<table border=\"1\" class=\"dataframe\">\n",
       "  <thead>\n",
       "    <tr style=\"text-align: right;\">\n",
       "      <th></th>\n",
       "      <th>review_id</th>\n",
       "      <th>rid</th>\n",
       "      <th>count</th>\n",
       "      <th>mu</th>\n",
       "      <th>tau2</th>\n",
       "      <th>mean</th>\n",
       "      <th>var</th>\n",
       "      <th>thetas</th>\n",
       "      <th>varthetas</th>\n",
       "    </tr>\n",
       "  </thead>\n",
       "  <tbody>\n",
       "    <tr>\n",
       "      <th>0</th>\n",
       "      <td>---sV8KdwfBoDw38KW_WnQ</td>\n",
       "      <td>VgLiSW1iGkpzIEXOgvUBEw</td>\n",
       "      <td>5</td>\n",
       "      <td>0.729513</td>\n",
       "      <td>0.011477</td>\n",
       "      <td>0.558430</td>\n",
       "      <td>0.024112</td>\n",
       "      <td>0.609048</td>\n",
       "      <td>0.003396</td>\n",
       "    </tr>\n",
       "    <tr>\n",
       "      <th>2</th>\n",
       "      <td>--0MzHNy7MVBRvZCOAeRPg</td>\n",
       "      <td>4gLecengX1JeGILm7DwU3w</td>\n",
       "      <td>3</td>\n",
       "      <td>0.637150</td>\n",
       "      <td>0.021168</td>\n",
       "      <td>0.574416</td>\n",
       "      <td>0.038655</td>\n",
       "      <td>0.598154</td>\n",
       "      <td>0.008010</td>\n",
       "    </tr>\n",
       "    <tr>\n",
       "      <th>4</th>\n",
       "      <td>--2NT40xmHh9oBLumzdjhA</td>\n",
       "      <td>4ZZab5hinFzHtj3sE8vQWg</td>\n",
       "      <td>5</td>\n",
       "      <td>0.537277</td>\n",
       "      <td>0.041317</td>\n",
       "      <td>0.601008</td>\n",
       "      <td>0.026742</td>\n",
       "      <td>0.593704</td>\n",
       "      <td>0.004735</td>\n",
       "    </tr>\n",
       "    <tr>\n",
       "      <th>6</th>\n",
       "      <td>--2Ylq1M_Toj6e0hy_C2XA</td>\n",
       "      <td>e9er1p-8RMyRa9IKUzKE-w</td>\n",
       "      <td>4</td>\n",
       "      <td>0.634229</td>\n",
       "      <td>0.012701</td>\n",
       "      <td>0.613059</td>\n",
       "      <td>0.008469</td>\n",
       "      <td>0.616083</td>\n",
       "      <td>0.001815</td>\n",
       "    </tr>\n",
       "    <tr>\n",
       "      <th>8</th>\n",
       "      <td>--3QRshg8GhfimzyGWkcAQ</td>\n",
       "      <td>T2zItRCqolfzSZR2Io0OZg</td>\n",
       "      <td>2</td>\n",
       "      <td>0.750688</td>\n",
       "      <td>0.002817</td>\n",
       "      <td>0.756603</td>\n",
       "      <td>0.000011</td>\n",
       "      <td>0.756592</td>\n",
       "      <td>0.000005</td>\n",
       "    </tr>\n",
       "  </tbody>\n",
       "</table>\n",
       "</div>"
      ],
      "text/plain": [
       "                review_id                     rid  count        mu      tau2      mean       var    thetas  varthetas\n",
       "0  ---sV8KdwfBoDw38KW_WnQ  VgLiSW1iGkpzIEXOgvUBEw      5  0.729513  0.011477  0.558430  0.024112  0.609048   0.003396\n",
       "2  --0MzHNy7MVBRvZCOAeRPg  4gLecengX1JeGILm7DwU3w      3  0.637150  0.021168  0.574416  0.038655  0.598154   0.008010\n",
       "4  --2NT40xmHh9oBLumzdjhA  4ZZab5hinFzHtj3sE8vQWg      5  0.537277  0.041317  0.601008  0.026742  0.593704   0.004735\n",
       "6  --2Ylq1M_Toj6e0hy_C2XA  e9er1p-8RMyRa9IKUzKE-w      4  0.634229  0.012701  0.613059  0.008469  0.616083   0.001815\n",
       "8  --3QRshg8GhfimzyGWkcAQ  T2zItRCqolfzSZR2Io0OZg      2  0.750688  0.002817  0.756603  0.000011  0.756592   0.000005"
      ]
     },
     "execution_count": 63,
     "metadata": {},
     "output_type": "execute_result"
    }
   ],
   "source": [
    "c0df_eb.head()"
   ]
  },
  {
   "cell_type": "markdown",
   "metadata": {},
   "source": [
    "And for topic 1:"
   ]
  },
  {
   "cell_type": "code",
   "execution_count": 64,
   "metadata": {
    "collapsed": true
   },
   "outputs": [],
   "source": [
    "c1df_eb=doit(c1df, classone_updmeans, classone_resttausqs_1)"
   ]
  },
  {
   "cell_type": "markdown",
   "metadata": {},
   "source": [
    "### Probabilities and shrinkage"
   ]
  },
  {
   "cell_type": "markdown",
   "metadata": {},
   "source": [
    "Let us see what this entire exercise has brought us."
   ]
  },
  {
   "cell_type": "markdown",
   "metadata": {},
   "source": [
    "#### 5.4 Make a shrinkage plot"
   ]
  },
  {
   "cell_type": "markdown",
   "metadata": {},
   "source": [
    "Just like in Lab 9, make a shrinkage plot which scatter-plots the posterior estimates $\\theta_i$ against the review means $\\bar y_i$. Plot the 45 degree line. Make one plot for the estimates in `c0df_eb` for topic 0 and one for the topic 1 from `c1df_eb`. Do you see shrinkage? In these plots (unlike in the lab), dont bother about plotting the standard deviations, we we have too many points in each dataframe. You'll need to turn the alpha-transparency way down to see any structure."
   ]
  },
  {
   "cell_type": "code",
   "execution_count": 95,
   "metadata": {
    "collapsed": false
   },
   "outputs": [
    {
     "ename": "KeyboardInterrupt",
     "evalue": "",
     "output_type": "error",
     "traceback": [
      "\u001b[0;31m---------------------------------------------------------------------------\u001b[0m",
      "\u001b[0;31mKeyboardInterrupt\u001b[0m                         Traceback (most recent call last)",
      "\u001b[0;32m<ipython-input-95-8a2191c481ce>\u001b[0m in \u001b[0;36m<module>\u001b[0;34m()\u001b[0m\n\u001b[1;32m      3\u001b[0m     \u001b[0mdata\u001b[0m\u001b[0;34m.\u001b[0m\u001b[0mappend\u001b[0m\u001b[0;34m(\u001b[0m\u001b[0;34m(\u001b[0m\u001b[0mmu\u001b[0m\u001b[0;34m,\u001b[0m \u001b[0mthetas\u001b[0m\u001b[0;34m,\u001b[0m \u001b[0mmean\u001b[0m\u001b[0;34m,\u001b[0m \u001b[0mtau2\u001b[0m\u001b[0;34m,\u001b[0m \u001b[0mcount\u001b[0m\u001b[0;34m)\u001b[0m\u001b[0;34m)\u001b[0m\u001b[0;34m\u001b[0m\u001b[0m\n\u001b[1;32m      4\u001b[0m \u001b[0;34m\u001b[0m\u001b[0m\n\u001b[0;32m----> 5\u001b[0;31m \u001b[0mshrinkage_plot\u001b[0m\u001b[0;34m(\u001b[0m\u001b[0mdata\u001b[0m\u001b[0;34m)\u001b[0m\u001b[0;34m\u001b[0m\u001b[0m\n\u001b[0m",
      "\u001b[0;32m<ipython-input-80-3685d104e221>\u001b[0m in \u001b[0;36mshrinkage_plot\u001b[0;34m(data)\u001b[0m\n\u001b[1;32m     10\u001b[0m             \u001b[0;32mif\u001b[0m \u001b[0mme2\u001b[0m\u001b[0;34m==\u001b[0m\u001b[0;36m0\u001b[0m\u001b[0;34m:\u001b[0m\u001b[0;34m\u001b[0m\u001b[0m\n\u001b[1;32m     11\u001b[0m                 \u001b[0mme2\u001b[0m\u001b[0;34m=\u001b[0m\u001b[0;36m4\u001b[0m\u001b[0;34m\u001b[0m\u001b[0m\n\u001b[0;32m---> 12\u001b[0;31m             \u001b[0mplt\u001b[0m\u001b[0;34m.\u001b[0m\u001b[0merrorbar\u001b[0m\u001b[0;34m(\u001b[0m\u001b[0;34m[\u001b[0m\u001b[0mm\u001b[0m\u001b[0;34m,\u001b[0m\u001b[0mt\u001b[0m\u001b[0;34m]\u001b[0m\u001b[0;34m,\u001b[0m\u001b[0;34m[\u001b[0m\u001b[0mnoise\u001b[0m\u001b[0;34m,\u001b[0m\u001b[0;36m1\u001b[0m\u001b[0;34m+\u001b[0m\u001b[0mnoise2\u001b[0m\u001b[0;34m]\u001b[0m\u001b[0;34m,\u001b[0m \u001b[0mxerr\u001b[0m\u001b[0;34m=\u001b[0m\u001b[0;34m[\u001b[0m\u001b[0mnp\u001b[0m\u001b[0;34m.\u001b[0m\u001b[0msqrt\u001b[0m\u001b[0;34m(\u001b[0m\u001b[0mme2\u001b[0m\u001b[0;34m)\u001b[0m\u001b[0;34m,\u001b[0m \u001b[0mnp\u001b[0m\u001b[0;34m.\u001b[0m\u001b[0msqrt\u001b[0m\u001b[0;34m(\u001b[0m\u001b[0mte2\u001b[0m\u001b[0;34m)\u001b[0m\u001b[0;34m]\u001b[0m\u001b[0;34m,\u001b[0m \u001b[0mcolor\u001b[0m\u001b[0;34m=\u001b[0m\u001b[0mcolor\u001b[0m\u001b[0;34m,\u001b[0m  \u001b[0mlw\u001b[0m\u001b[0;34m=\u001b[0m\u001b[0;36m1\u001b[0m\u001b[0;34m)\u001b[0m\u001b[0;34m\u001b[0m\u001b[0m\n\u001b[0m\u001b[1;32m     13\u001b[0m         \u001b[0mplt\u001b[0m\u001b[0;34m.\u001b[0m\u001b[0myticks\u001b[0m\u001b[0;34m(\u001b[0m\u001b[0;34m[\u001b[0m\u001b[0;34m]\u001b[0m\u001b[0;34m)\u001b[0m\u001b[0;34m\u001b[0m\u001b[0m\n\u001b[1;32m     14\u001b[0m         \u001b[0mplt\u001b[0m\u001b[0;34m.\u001b[0m\u001b[0mxlim\u001b[0m\u001b[0;34m(\u001b[0m\u001b[0;34m[\u001b[0m\u001b[0;36m0\u001b[0m\u001b[0;34m,\u001b[0m\u001b[0;36m1\u001b[0m\u001b[0;34m]\u001b[0m\u001b[0;34m)\u001b[0m\u001b[0;34m\u001b[0m\u001b[0m\n",
      "\u001b[0;32m/Users/hopemason/anaconda/lib/python2.7/site-packages/matplotlib/pyplot.pyc\u001b[0m in \u001b[0;36merrorbar\u001b[0;34m(x, y, yerr, xerr, fmt, ecolor, elinewidth, capsize, barsabove, lolims, uplims, xlolims, xuplims, errorevery, capthick, hold, **kwargs)\u001b[0m\n\u001b[1;32m   2764\u001b[0m                           \u001b[0mbarsabove\u001b[0m\u001b[0;34m=\u001b[0m\u001b[0mbarsabove\u001b[0m\u001b[0;34m,\u001b[0m \u001b[0mlolims\u001b[0m\u001b[0;34m=\u001b[0m\u001b[0mlolims\u001b[0m\u001b[0;34m,\u001b[0m \u001b[0muplims\u001b[0m\u001b[0;34m=\u001b[0m\u001b[0muplims\u001b[0m\u001b[0;34m,\u001b[0m\u001b[0;34m\u001b[0m\u001b[0m\n\u001b[1;32m   2765\u001b[0m                           \u001b[0mxlolims\u001b[0m\u001b[0;34m=\u001b[0m\u001b[0mxlolims\u001b[0m\u001b[0;34m,\u001b[0m \u001b[0mxuplims\u001b[0m\u001b[0;34m=\u001b[0m\u001b[0mxuplims\u001b[0m\u001b[0;34m,\u001b[0m\u001b[0;34m\u001b[0m\u001b[0m\n\u001b[0;32m-> 2766\u001b[0;31m                           errorevery=errorevery, capthick=capthick, **kwargs)\n\u001b[0m\u001b[1;32m   2767\u001b[0m         \u001b[0mdraw_if_interactive\u001b[0m\u001b[0;34m(\u001b[0m\u001b[0;34m)\u001b[0m\u001b[0;34m\u001b[0m\u001b[0m\n\u001b[1;32m   2768\u001b[0m     \u001b[0;32mfinally\u001b[0m\u001b[0;34m:\u001b[0m\u001b[0;34m\u001b[0m\u001b[0m\n",
      "\u001b[0;32m/Users/hopemason/anaconda/lib/python2.7/site-packages/matplotlib/axes/_axes.pyc\u001b[0m in \u001b[0;36merrorbar\u001b[0;34m(self, x, y, yerr, xerr, fmt, ecolor, elinewidth, capsize, barsabove, lolims, uplims, xlolims, xuplims, errorevery, capthick, **kwargs)\u001b[0m\n\u001b[1;32m   2766\u001b[0m                 \u001b[0;32mif\u001b[0m \u001b[0mcapsize\u001b[0m \u001b[0;34m>\u001b[0m \u001b[0;36m0\u001b[0m\u001b[0;34m:\u001b[0m\u001b[0;34m\u001b[0m\u001b[0m\n\u001b[1;32m   2767\u001b[0m                     \u001b[0mcaplines\u001b[0m\u001b[0;34m.\u001b[0m\u001b[0mextend\u001b[0m\u001b[0;34m(\u001b[0m\u001b[0mself\u001b[0m\u001b[0;34m.\u001b[0m\u001b[0mplot\u001b[0m\u001b[0;34m(\u001b[0m\u001b[0mlo\u001b[0m\u001b[0;34m,\u001b[0m \u001b[0myo\u001b[0m\u001b[0;34m,\u001b[0m \u001b[0;34m'k|'\u001b[0m\u001b[0;34m,\u001b[0m \u001b[0;34m**\u001b[0m\u001b[0mplot_kw\u001b[0m\u001b[0;34m)\u001b[0m\u001b[0;34m)\u001b[0m\u001b[0;34m\u001b[0m\u001b[0m\n\u001b[0;32m-> 2768\u001b[0;31m                     \u001b[0mcaplines\u001b[0m\u001b[0;34m.\u001b[0m\u001b[0mextend\u001b[0m\u001b[0;34m(\u001b[0m\u001b[0mself\u001b[0m\u001b[0;34m.\u001b[0m\u001b[0mplot\u001b[0m\u001b[0;34m(\u001b[0m\u001b[0mro\u001b[0m\u001b[0;34m,\u001b[0m \u001b[0myo\u001b[0m\u001b[0;34m,\u001b[0m \u001b[0;34m'k|'\u001b[0m\u001b[0;34m,\u001b[0m \u001b[0;34m**\u001b[0m\u001b[0mplot_kw\u001b[0m\u001b[0;34m)\u001b[0m\u001b[0;34m)\u001b[0m\u001b[0;34m\u001b[0m\u001b[0m\n\u001b[0m\u001b[1;32m   2769\u001b[0m \u001b[0;34m\u001b[0m\u001b[0m\n\u001b[1;32m   2770\u001b[0m             \u001b[0;32mif\u001b[0m \u001b[0mxlolims\u001b[0m\u001b[0;34m.\u001b[0m\u001b[0many\u001b[0m\u001b[0;34m(\u001b[0m\u001b[0;34m)\u001b[0m\u001b[0;34m:\u001b[0m\u001b[0;34m\u001b[0m\u001b[0m\n",
      "\u001b[0;32m/Users/hopemason/anaconda/lib/python2.7/site-packages/matplotlib/axes/_axes.pyc\u001b[0m in \u001b[0;36mplot\u001b[0;34m(self, *args, **kwargs)\u001b[0m\n\u001b[1;32m   1372\u001b[0m \u001b[0;34m\u001b[0m\u001b[0m\n\u001b[1;32m   1373\u001b[0m         \u001b[0;32mfor\u001b[0m \u001b[0mline\u001b[0m \u001b[0;32min\u001b[0m \u001b[0mself\u001b[0m\u001b[0;34m.\u001b[0m\u001b[0m_get_lines\u001b[0m\u001b[0;34m(\u001b[0m\u001b[0;34m*\u001b[0m\u001b[0margs\u001b[0m\u001b[0;34m,\u001b[0m \u001b[0;34m**\u001b[0m\u001b[0mkwargs\u001b[0m\u001b[0;34m)\u001b[0m\u001b[0;34m:\u001b[0m\u001b[0;34m\u001b[0m\u001b[0m\n\u001b[0;32m-> 1374\u001b[0;31m             \u001b[0mself\u001b[0m\u001b[0;34m.\u001b[0m\u001b[0madd_line\u001b[0m\u001b[0;34m(\u001b[0m\u001b[0mline\u001b[0m\u001b[0;34m)\u001b[0m\u001b[0;34m\u001b[0m\u001b[0m\n\u001b[0m\u001b[1;32m   1375\u001b[0m             \u001b[0mlines\u001b[0m\u001b[0;34m.\u001b[0m\u001b[0mappend\u001b[0m\u001b[0;34m(\u001b[0m\u001b[0mline\u001b[0m\u001b[0;34m)\u001b[0m\u001b[0;34m\u001b[0m\u001b[0m\n\u001b[1;32m   1376\u001b[0m \u001b[0;34m\u001b[0m\u001b[0m\n",
      "\u001b[0;32m/Users/hopemason/anaconda/lib/python2.7/site-packages/matplotlib/axes/_base.pyc\u001b[0m in \u001b[0;36madd_line\u001b[0;34m(self, line)\u001b[0m\n\u001b[1;32m   1502\u001b[0m             \u001b[0mline\u001b[0m\u001b[0;34m.\u001b[0m\u001b[0mset_clip_path\u001b[0m\u001b[0;34m(\u001b[0m\u001b[0mself\u001b[0m\u001b[0;34m.\u001b[0m\u001b[0mpatch\u001b[0m\u001b[0;34m)\u001b[0m\u001b[0;34m\u001b[0m\u001b[0m\n\u001b[1;32m   1503\u001b[0m \u001b[0;34m\u001b[0m\u001b[0m\n\u001b[0;32m-> 1504\u001b[0;31m         \u001b[0mself\u001b[0m\u001b[0;34m.\u001b[0m\u001b[0m_update_line_limits\u001b[0m\u001b[0;34m(\u001b[0m\u001b[0mline\u001b[0m\u001b[0;34m)\u001b[0m\u001b[0;34m\u001b[0m\u001b[0m\n\u001b[0m\u001b[1;32m   1505\u001b[0m         \u001b[0;32mif\u001b[0m \u001b[0;32mnot\u001b[0m \u001b[0mline\u001b[0m\u001b[0;34m.\u001b[0m\u001b[0mget_label\u001b[0m\u001b[0;34m(\u001b[0m\u001b[0;34m)\u001b[0m\u001b[0;34m:\u001b[0m\u001b[0;34m\u001b[0m\u001b[0m\n\u001b[1;32m   1506\u001b[0m             \u001b[0mline\u001b[0m\u001b[0;34m.\u001b[0m\u001b[0mset_label\u001b[0m\u001b[0;34m(\u001b[0m\u001b[0;34m'_line%d'\u001b[0m \u001b[0;34m%\u001b[0m \u001b[0mlen\u001b[0m\u001b[0;34m(\u001b[0m\u001b[0mself\u001b[0m\u001b[0;34m.\u001b[0m\u001b[0mlines\u001b[0m\u001b[0;34m)\u001b[0m\u001b[0;34m)\u001b[0m\u001b[0;34m\u001b[0m\u001b[0m\n",
      "\u001b[0;32m/Users/hopemason/anaconda/lib/python2.7/site-packages/matplotlib/axes/_base.pyc\u001b[0m in \u001b[0;36m_update_line_limits\u001b[0;34m(self, line)\u001b[0m\n\u001b[1;32m   1546\u001b[0m         \u001b[0;32mif\u001b[0m \u001b[0mdata_path\u001b[0m\u001b[0;34m.\u001b[0m\u001b[0mvertices\u001b[0m\u001b[0;34m.\u001b[0m\u001b[0msize\u001b[0m \u001b[0;34m>\u001b[0m \u001b[0;36m0\u001b[0m\u001b[0;34m:\u001b[0m\u001b[0;34m\u001b[0m\u001b[0m\n\u001b[1;32m   1547\u001b[0m             updatex, updatey = line_trans.contains_branch_seperately(\n\u001b[0;32m-> 1548\u001b[0;31m                 self.transData)\n\u001b[0m\u001b[1;32m   1549\u001b[0m             self.dataLim.update_from_path(data_path,\n\u001b[1;32m   1550\u001b[0m                                           \u001b[0mself\u001b[0m\u001b[0;34m.\u001b[0m\u001b[0mignore_existing_data_limits\u001b[0m\u001b[0;34m,\u001b[0m\u001b[0;34m\u001b[0m\u001b[0m\n",
      "\u001b[0;32m/Users/hopemason/anaconda/lib/python2.7/site-packages/matplotlib/transforms.pyc\u001b[0m in \u001b[0;36mcontains_branch_seperately\u001b[0;34m(self, other_transform)\u001b[0m\n\u001b[1;32m   1219\u001b[0m         \u001b[0;31m# for a non-blended transform each seperate dimension is the same, so\u001b[0m\u001b[0;34m\u001b[0m\u001b[0;34m\u001b[0m\u001b[0m\n\u001b[1;32m   1220\u001b[0m         \u001b[0;31m# just return the appropriate shape.\u001b[0m\u001b[0;34m\u001b[0m\u001b[0;34m\u001b[0m\u001b[0m\n\u001b[0;32m-> 1221\u001b[0;31m         \u001b[0;32mreturn\u001b[0m \u001b[0;34m[\u001b[0m\u001b[0mself\u001b[0m\u001b[0;34m.\u001b[0m\u001b[0mcontains_branch\u001b[0m\u001b[0;34m(\u001b[0m\u001b[0mother_transform\u001b[0m\u001b[0;34m)\u001b[0m\u001b[0;34m]\u001b[0m \u001b[0;34m*\u001b[0m \u001b[0;36m2\u001b[0m\u001b[0;34m\u001b[0m\u001b[0m\n\u001b[0m\u001b[1;32m   1222\u001b[0m \u001b[0;34m\u001b[0m\u001b[0m\n\u001b[1;32m   1223\u001b[0m     \u001b[0;32mdef\u001b[0m \u001b[0m__sub__\u001b[0m\u001b[0;34m(\u001b[0m\u001b[0mself\u001b[0m\u001b[0;34m,\u001b[0m \u001b[0mother\u001b[0m\u001b[0;34m)\u001b[0m\u001b[0;34m:\u001b[0m\u001b[0;34m\u001b[0m\u001b[0m\n",
      "\u001b[0;32m/Users/hopemason/anaconda/lib/python2.7/site-packages/matplotlib/transforms.pyc\u001b[0m in \u001b[0;36mcontains_branch\u001b[0;34m(self, other)\u001b[0m\n\u001b[1;32m   1198\u001b[0m \u001b[0;34m\u001b[0m\u001b[0m\n\u001b[1;32m   1199\u001b[0m         \u001b[0;31m# check that a subtree is equal to other (starting from self)\u001b[0m\u001b[0;34m\u001b[0m\u001b[0;34m\u001b[0m\u001b[0m\n\u001b[0;32m-> 1200\u001b[0;31m         \u001b[0;32mfor\u001b[0m \u001b[0m_\u001b[0m\u001b[0;34m,\u001b[0m \u001b[0msub_tree\u001b[0m \u001b[0;32min\u001b[0m \u001b[0mself\u001b[0m\u001b[0;34m.\u001b[0m\u001b[0m_iter_break_from_left_to_right\u001b[0m\u001b[0;34m(\u001b[0m\u001b[0;34m)\u001b[0m\u001b[0;34m:\u001b[0m\u001b[0;34m\u001b[0m\u001b[0m\n\u001b[0m\u001b[1;32m   1201\u001b[0m             \u001b[0;32mif\u001b[0m \u001b[0msub_tree\u001b[0m \u001b[0;34m==\u001b[0m \u001b[0mother\u001b[0m\u001b[0;34m:\u001b[0m\u001b[0;34m\u001b[0m\u001b[0m\n\u001b[1;32m   1202\u001b[0m                 \u001b[0;32mreturn\u001b[0m \u001b[0mTrue\u001b[0m\u001b[0;34m\u001b[0m\u001b[0m\n",
      "\u001b[0;32m/Users/hopemason/anaconda/lib/python2.7/site-packages/matplotlib/transforms.pyc\u001b[0m in \u001b[0;36m_iter_break_from_left_to_right\u001b[0;34m(self)\u001b[0m\n\u001b[1;32m   2265\u001b[0m     \u001b[0;32mdef\u001b[0m \u001b[0m_iter_break_from_left_to_right\u001b[0m\u001b[0;34m(\u001b[0m\u001b[0mself\u001b[0m\u001b[0;34m)\u001b[0m\u001b[0;34m:\u001b[0m\u001b[0;34m\u001b[0m\u001b[0m\n\u001b[1;32m   2266\u001b[0m         \u001b[0;32mfor\u001b[0m \u001b[0mlh_compliment\u001b[0m\u001b[0;34m,\u001b[0m \u001b[0mrh_compliment\u001b[0m \u001b[0;32min\u001b[0m \u001b[0mself\u001b[0m\u001b[0;34m.\u001b[0m\u001b[0m_a\u001b[0m\u001b[0;34m.\u001b[0m\u001b[0m_iter_break_from_left_to_right\u001b[0m\u001b[0;34m(\u001b[0m\u001b[0;34m)\u001b[0m\u001b[0;34m:\u001b[0m\u001b[0;34m\u001b[0m\u001b[0m\n\u001b[0;32m-> 2267\u001b[0;31m             \u001b[0;32myield\u001b[0m \u001b[0mlh_compliment\u001b[0m\u001b[0;34m,\u001b[0m \u001b[0mrh_compliment\u001b[0m \u001b[0;34m+\u001b[0m \u001b[0mself\u001b[0m\u001b[0;34m.\u001b[0m\u001b[0m_b\u001b[0m\u001b[0;34m\u001b[0m\u001b[0m\n\u001b[0m\u001b[1;32m   2268\u001b[0m         \u001b[0;32mfor\u001b[0m \u001b[0mlh_compliment\u001b[0m\u001b[0;34m,\u001b[0m \u001b[0mrh_compliment\u001b[0m \u001b[0;32min\u001b[0m \u001b[0mself\u001b[0m\u001b[0;34m.\u001b[0m\u001b[0m_b\u001b[0m\u001b[0;34m.\u001b[0m\u001b[0m_iter_break_from_left_to_right\u001b[0m\u001b[0;34m(\u001b[0m\u001b[0;34m)\u001b[0m\u001b[0;34m:\u001b[0m\u001b[0;34m\u001b[0m\u001b[0m\n\u001b[1;32m   2269\u001b[0m             \u001b[0;32myield\u001b[0m \u001b[0mself\u001b[0m\u001b[0;34m.\u001b[0m\u001b[0m_a\u001b[0m \u001b[0;34m+\u001b[0m \u001b[0mlh_compliment\u001b[0m\u001b[0;34m,\u001b[0m \u001b[0mrh_compliment\u001b[0m\u001b[0;34m\u001b[0m\u001b[0m\n",
      "\u001b[0;32m/Users/hopemason/anaconda/lib/python2.7/site-packages/matplotlib/transforms.pyc\u001b[0m in \u001b[0;36m__add__\u001b[0;34m(self, other)\u001b[0m\n\u001b[1;32m   1136\u001b[0m         \"\"\"\n\u001b[1;32m   1137\u001b[0m         \u001b[0;32mif\u001b[0m \u001b[0misinstance\u001b[0m\u001b[0;34m(\u001b[0m\u001b[0mother\u001b[0m\u001b[0;34m,\u001b[0m \u001b[0mTransform\u001b[0m\u001b[0;34m)\u001b[0m\u001b[0;34m:\u001b[0m\u001b[0;34m\u001b[0m\u001b[0m\n\u001b[0;32m-> 1138\u001b[0;31m             \u001b[0;32mreturn\u001b[0m \u001b[0mcomposite_transform_factory\u001b[0m\u001b[0;34m(\u001b[0m\u001b[0mself\u001b[0m\u001b[0;34m,\u001b[0m \u001b[0mother\u001b[0m\u001b[0;34m)\u001b[0m\u001b[0;34m\u001b[0m\u001b[0m\n\u001b[0m\u001b[1;32m   1139\u001b[0m         raise TypeError(\n\u001b[1;32m   1140\u001b[0m             \"Can not add Transform to object of type '%s'\" % type(other))\n",
      "\u001b[0;32m/Users/hopemason/anaconda/lib/python2.7/site-packages/matplotlib/transforms.pyc\u001b[0m in \u001b[0;36mcomposite_transform_factory\u001b[0;34m(a, b)\u001b[0m\n\u001b[1;32m   2412\u001b[0m     \u001b[0;32melif\u001b[0m \u001b[0misinstance\u001b[0m\u001b[0;34m(\u001b[0m\u001b[0ma\u001b[0m\u001b[0;34m,\u001b[0m \u001b[0mAffine2D\u001b[0m\u001b[0;34m)\u001b[0m \u001b[0;32mand\u001b[0m \u001b[0misinstance\u001b[0m\u001b[0;34m(\u001b[0m\u001b[0mb\u001b[0m\u001b[0;34m,\u001b[0m \u001b[0mAffine2D\u001b[0m\u001b[0;34m)\u001b[0m\u001b[0;34m:\u001b[0m\u001b[0;34m\u001b[0m\u001b[0m\n\u001b[1;32m   2413\u001b[0m         \u001b[0;32mreturn\u001b[0m \u001b[0mCompositeAffine2D\u001b[0m\u001b[0;34m(\u001b[0m\u001b[0ma\u001b[0m\u001b[0;34m,\u001b[0m \u001b[0mb\u001b[0m\u001b[0;34m)\u001b[0m\u001b[0;34m\u001b[0m\u001b[0m\n\u001b[0;32m-> 2414\u001b[0;31m     \u001b[0;32mreturn\u001b[0m \u001b[0mCompositeGenericTransform\u001b[0m\u001b[0;34m(\u001b[0m\u001b[0ma\u001b[0m\u001b[0;34m,\u001b[0m \u001b[0mb\u001b[0m\u001b[0;34m)\u001b[0m\u001b[0;34m\u001b[0m\u001b[0m\n\u001b[0m\u001b[1;32m   2415\u001b[0m \u001b[0;34m\u001b[0m\u001b[0m\n\u001b[1;32m   2416\u001b[0m \u001b[0;34m\u001b[0m\u001b[0m\n",
      "\u001b[0;32m/Users/hopemason/anaconda/lib/python2.7/site-packages/matplotlib/transforms.pyc\u001b[0m in \u001b[0;36m__init__\u001b[0;34m(self, a, b, **kwargs)\u001b[0m\n\u001b[1;32m   2227\u001b[0m         \u001b[0mself\u001b[0m\u001b[0;34m.\u001b[0m\u001b[0moutput_dims\u001b[0m \u001b[0;34m=\u001b[0m \u001b[0mb\u001b[0m\u001b[0;34m.\u001b[0m\u001b[0moutput_dims\u001b[0m\u001b[0;34m\u001b[0m\u001b[0m\n\u001b[1;32m   2228\u001b[0m \u001b[0;34m\u001b[0m\u001b[0m\n\u001b[0;32m-> 2229\u001b[0;31m         \u001b[0mTransform\u001b[0m\u001b[0;34m.\u001b[0m\u001b[0m__init__\u001b[0m\u001b[0;34m(\u001b[0m\u001b[0mself\u001b[0m\u001b[0;34m,\u001b[0m \u001b[0;34m**\u001b[0m\u001b[0mkwargs\u001b[0m\u001b[0;34m)\u001b[0m\u001b[0;34m\u001b[0m\u001b[0m\n\u001b[0m\u001b[1;32m   2230\u001b[0m         \u001b[0mself\u001b[0m\u001b[0;34m.\u001b[0m\u001b[0m_a\u001b[0m \u001b[0;34m=\u001b[0m \u001b[0ma\u001b[0m\u001b[0;34m\u001b[0m\u001b[0m\n\u001b[1;32m   2231\u001b[0m         \u001b[0mself\u001b[0m\u001b[0;34m.\u001b[0m\u001b[0m_b\u001b[0m \u001b[0;34m=\u001b[0m \u001b[0mb\u001b[0m\u001b[0;34m\u001b[0m\u001b[0m\n",
      "\u001b[0;32m/Users/hopemason/anaconda/lib/python2.7/site-packages/matplotlib/transforms.pyc\u001b[0m in \u001b[0;36m__init__\u001b[0;34m(self, shorthand_name)\u001b[0m\n\u001b[1;32m     95\u001b[0m         \u001b[0;31m# parents are deleted, references from the children won't keep\u001b[0m\u001b[0;34m\u001b[0m\u001b[0;34m\u001b[0m\u001b[0m\n\u001b[1;32m     96\u001b[0m         \u001b[0;31m# them alive.\u001b[0m\u001b[0;34m\u001b[0m\u001b[0;34m\u001b[0m\u001b[0m\n\u001b[0;32m---> 97\u001b[0;31m         \u001b[0mself\u001b[0m\u001b[0;34m.\u001b[0m\u001b[0m_parents\u001b[0m \u001b[0;34m=\u001b[0m \u001b[0mWeakValueDictionary\u001b[0m\u001b[0;34m(\u001b[0m\u001b[0;34m)\u001b[0m\u001b[0;34m\u001b[0m\u001b[0m\n\u001b[0m\u001b[1;32m     98\u001b[0m \u001b[0;34m\u001b[0m\u001b[0m\n\u001b[1;32m     99\u001b[0m         \u001b[0;31m# TransformNodes start out as invalid until their values are\u001b[0m\u001b[0;34m\u001b[0m\u001b[0;34m\u001b[0m\u001b[0m\n",
      "\u001b[0;32m/Users/hopemason/anaconda/lib/python2.7/weakref.pyc\u001b[0m in \u001b[0;36m__init__\u001b[0;34m(self, *args, **kw)\u001b[0m\n\u001b[1;32m     46\u001b[0m \u001b[0;34m\u001b[0m\u001b[0m\n\u001b[1;32m     47\u001b[0m     \u001b[0;32mdef\u001b[0m \u001b[0m__init__\u001b[0m\u001b[0;34m(\u001b[0m\u001b[0mself\u001b[0m\u001b[0;34m,\u001b[0m \u001b[0;34m*\u001b[0m\u001b[0margs\u001b[0m\u001b[0;34m,\u001b[0m \u001b[0;34m**\u001b[0m\u001b[0mkw\u001b[0m\u001b[0;34m)\u001b[0m\u001b[0;34m:\u001b[0m\u001b[0;34m\u001b[0m\u001b[0m\n\u001b[0;32m---> 48\u001b[0;31m         \u001b[0;32mdef\u001b[0m \u001b[0mremove\u001b[0m\u001b[0;34m(\u001b[0m\u001b[0mwr\u001b[0m\u001b[0;34m,\u001b[0m \u001b[0mselfref\u001b[0m\u001b[0;34m=\u001b[0m\u001b[0mref\u001b[0m\u001b[0;34m(\u001b[0m\u001b[0mself\u001b[0m\u001b[0;34m)\u001b[0m\u001b[0;34m)\u001b[0m\u001b[0;34m:\u001b[0m\u001b[0;34m\u001b[0m\u001b[0m\n\u001b[0m\u001b[1;32m     49\u001b[0m             \u001b[0mself\u001b[0m \u001b[0;34m=\u001b[0m \u001b[0mselfref\u001b[0m\u001b[0;34m(\u001b[0m\u001b[0;34m)\u001b[0m\u001b[0;34m\u001b[0m\u001b[0m\n\u001b[1;32m     50\u001b[0m             \u001b[0;32mif\u001b[0m \u001b[0mself\u001b[0m \u001b[0;32mis\u001b[0m \u001b[0;32mnot\u001b[0m \u001b[0mNone\u001b[0m\u001b[0;34m:\u001b[0m\u001b[0;34m\u001b[0m\u001b[0m\n",
      "\u001b[0;31mKeyboardInterrupt\u001b[0m: "
     ]
    },
    {
     "data": {
      "image/png": "[encoded data removed]",
      "text/plain": [
       "<matplotlib.figure.Figure at 0x114cb31d0>"
      ]
     },
     "metadata": {},
     "output_type": "display_data"
    }
   ],
   "source": [
    "data = []\n",
    "for review_id, rid, count, mu, tau2, mean, var, thetas, varthetas in c0df_eb.values:\n",
    "    data.append((mu, thetas, mean, tau2, count))\n",
    "    \n",
    "shrinkage_plot(data)"
   ]
  },
  {
   "cell_type": "code",
   "execution_count": 36,
   "metadata": {
    "collapsed": false
   },
   "outputs": [],
   "source": [
    "plt.scatter "
   ]
  },
  {
   "cell_type": "markdown",
   "metadata": {},
   "source": [
    "*your answer here*"
   ]
  },
  {
   "cell_type": "markdown",
   "metadata": {},
   "source": [
    "#### Shrinkage plots on individual probabilities"
   ]
  },
  {
   "cell_type": "markdown",
   "metadata": {},
   "source": [
    "We'll use our old friend the restaurant `T2zItRCqolfzSZR2Io0OZg` and its probabilities to illustrate shrinkage. Below we provide code to make a plot of probabilities. The unshrunk probabilities are put at y=0 with some jitter. The shrunk ones are at y=1. This will make a classic shrinkage plot like in the textbooks. \n",
    "\n",
    "Variances of 0 due to there being only 1 sample are rescaled to being 4 since that shows huge uncertainty."
   ]
  },
  {
   "cell_type": "code",
   "execution_count": 80,
   "metadata": {
    "collapsed": true
   },
   "outputs": [],
   "source": [
    "import itertools\n",
    "def shrinkage_plot(data):\n",
    "    palette = itertools.cycle(sns.color_palette())\n",
    "    with sns.axes_style('white'):\n",
    "        for m,t, me2, te2, c in data:\n",
    "            color=next(palette)\n",
    "            noise=0.04*np.random.randn()\n",
    "            noise2=0.04*np.random.randn()\n",
    "            plt.plot([m,t],[noise,1+noise2],'o-', color=color, lw=1)\n",
    "            if me2==0:\n",
    "                me2=4\n",
    "            plt.errorbar([m,t],[noise,1+noise2], xerr=[np.sqrt(me2), np.sqrt(te2)], color=color,  lw=1)\n",
    "        plt.yticks([])\n",
    "        plt.xlim([0,1])\n",
    "        sns.despine(offset=-2, trim=True, left=True)\n",
    "    return plt.gca()"
   ]
  },
  {
   "cell_type": "markdown",
   "metadata": {},
   "source": [
    "Here is the dataframe with EB estimates for this restaurant from topic 0:"
   ]
  },
  {
   "cell_type": "code",
   "execution_count": 69,
   "metadata": {
    "collapsed": false
   },
   "outputs": [
    {
     "data": {
      "text/html": [
       "<div>\n",
       "<table border=\"1\" class=\"dataframe\">\n",
       "  <thead>\n",
       "    <tr style=\"text-align: right;\">\n",
       "      <th></th>\n",
       "      <th>review_id</th>\n",
       "      <th>rid</th>\n",
       "      <th>count</th>\n",
       "      <th>mu</th>\n",
       "      <th>tau2</th>\n",
       "      <th>mean</th>\n",
       "      <th>var</th>\n",
       "      <th>thetas</th>\n",
       "      <th>varthetas</th>\n",
       "    </tr>\n",
       "  </thead>\n",
       "  <tbody>\n",
       "    <tr>\n",
       "      <th>8</th>\n",
       "      <td>--3QRshg8GhfimzyGWkcAQ</td>\n",
       "      <td>T2zItRCqolfzSZR2Io0OZg</td>\n",
       "      <td>2</td>\n",
       "      <td>0.750688</td>\n",
       "      <td>0.002817</td>\n",
       "      <td>0.756603</td>\n",
       "      <td>0.000011</td>\n",
       "      <td>0.756592</td>\n",
       "      <td>0.000005</td>\n",
       "    </tr>\n",
       "    <tr>\n",
       "      <th>19430</th>\n",
       "      <td>7Mg3i3KvbFF5eSoRYoc48w</td>\n",
       "      <td>T2zItRCqolfzSZR2Io0OZg</td>\n",
       "      <td>1</td>\n",
       "      <td>0.750688</td>\n",
       "      <td>0.002817</td>\n",
       "      <td>0.751882</td>\n",
       "      <td>0.000000</td>\n",
       "      <td>0.750688</td>\n",
       "      <td>0.002817</td>\n",
       "    </tr>\n",
       "    <tr>\n",
       "      <th>64615</th>\n",
       "      <td>QxEQ5q7R0SWGL31niiETyg</td>\n",
       "      <td>T2zItRCqolfzSZR2Io0OZg</td>\n",
       "      <td>6</td>\n",
       "      <td>0.750688</td>\n",
       "      <td>0.002817</td>\n",
       "      <td>0.667189</td>\n",
       "      <td>0.005438</td>\n",
       "      <td>0.687514</td>\n",
       "      <td>0.000686</td>\n",
       "    </tr>\n",
       "    <tr>\n",
       "      <th>77013</th>\n",
       "      <td>WNDMIxVnfMI7wq7Lc9mi4Q</td>\n",
       "      <td>T2zItRCqolfzSZR2Io0OZg</td>\n",
       "      <td>2</td>\n",
       "      <td>0.750688</td>\n",
       "      <td>0.002817</td>\n",
       "      <td>0.837516</td>\n",
       "      <td>0.002978</td>\n",
       "      <td>0.807488</td>\n",
       "      <td>0.000974</td>\n",
       "    </tr>\n",
       "    <tr>\n",
       "      <th>94050</th>\n",
       "      <td>cmSaTa-eyoEAUSGThp5A4g</td>\n",
       "      <td>T2zItRCqolfzSZR2Io0OZg</td>\n",
       "      <td>3</td>\n",
       "      <td>0.750688</td>\n",
       "      <td>0.002817</td>\n",
       "      <td>0.687485</td>\n",
       "      <td>0.017147</td>\n",
       "      <td>0.729822</td>\n",
       "      <td>0.001887</td>\n",
       "    </tr>\n",
       "    <tr>\n",
       "      <th>134516</th>\n",
       "      <td>uBLMbE-Pa0IFx-xghripIQ</td>\n",
       "      <td>T2zItRCqolfzSZR2Io0OZg</td>\n",
       "      <td>2</td>\n",
       "      <td>0.750688</td>\n",
       "      <td>0.002817</td>\n",
       "      <td>0.630500</td>\n",
       "      <td>0.064716</td>\n",
       "      <td>0.741063</td>\n",
       "      <td>0.002591</td>\n",
       "    </tr>\n",
       "    <tr>\n",
       "      <th>141202</th>\n",
       "      <td>x72wx4MCuUV_-St6q2eROg</td>\n",
       "      <td>T2zItRCqolfzSZR2Io0OZg</td>\n",
       "      <td>3</td>\n",
       "      <td>0.750688</td>\n",
       "      <td>0.002817</td>\n",
       "      <td>0.801496</td>\n",
       "      <td>0.005973</td>\n",
       "      <td>0.780457</td>\n",
       "      <td>0.001167</td>\n",
       "    </tr>\n",
       "  </tbody>\n",
       "</table>\n",
       "</div>"
      ],
      "text/plain": [
       "                     review_id                     rid  count        mu      tau2      mean       var    thetas  varthetas\n",
       "8       --3QRshg8GhfimzyGWkcAQ  T2zItRCqolfzSZR2Io0OZg      2  0.750688  0.002817  0.756603  0.000011  0.756592   0.000005\n",
       "19430   7Mg3i3KvbFF5eSoRYoc48w  T2zItRCqolfzSZR2Io0OZg      1  0.750688  0.002817  0.751882  0.000000  0.750688   0.002817\n",
       "64615   QxEQ5q7R0SWGL31niiETyg  T2zItRCqolfzSZR2Io0OZg      6  0.750688  0.002817  0.667189  0.005438  0.687514   0.000686\n",
       "77013   WNDMIxVnfMI7wq7Lc9mi4Q  T2zItRCqolfzSZR2Io0OZg      2  0.750688  0.002817  0.837516  0.002978  0.807488   0.000974\n",
       "94050   cmSaTa-eyoEAUSGThp5A4g  T2zItRCqolfzSZR2Io0OZg      3  0.750688  0.002817  0.687485  0.017147  0.729822   0.001887\n",
       "134516  uBLMbE-Pa0IFx-xghripIQ  T2zItRCqolfzSZR2Io0OZg      2  0.750688  0.002817  0.630500  0.064716  0.741063   0.002591\n",
       "141202  x72wx4MCuUV_-St6q2eROg  T2zItRCqolfzSZR2Io0OZg      3  0.750688  0.002817  0.801496  0.005973  0.780457   0.001167"
      ]
     },
     "execution_count": 69,
     "metadata": {},
     "output_type": "execute_result"
    }
   ],
   "source": [
    "test0=c0df_eb[c0df_eb['rid']=='T2zItRCqolfzSZR2Io0OZg']\n",
    "test0"
   ]
  },
  {
   "cell_type": "markdown",
   "metadata": {},
   "source": [
    "And here is how we produce the plot. We zip together the data from the shrunk dataframe, the first 2 element being the unshrunk and shrunk probability estimates, and the second their variances. The final element is the counts. This data is passed to `shrinkage_plot`. Notice that the variance here is divided by the count for us."
   ]
  },
  {
   "cell_type": "code",
   "execution_count": 70,
   "metadata": {
    "collapsed": false
   },
   "outputs": [
    {
     "data": {
      "image/png": "[encoded data removed]",
      "text/plain": [
       "<matplotlib.figure.Figure at 0x116962310>"
      ]
     },
     "metadata": {},
     "output_type": "display_data"
    }
   ],
   "source": [
    "data=zip(test0['mean'], test0['thetas'], test0['var']/test0['count'], test0['varthetas'], test0['count'])\n",
    "shrinkage_plot(data);"
   ]
  },
  {
   "cell_type": "markdown",
   "metadata": {},
   "source": [
    "Similarly, lets find our restaurant in the topic 1 dataframe:"
   ]
  },
  {
   "cell_type": "code",
   "execution_count": 71,
   "metadata": {
    "collapsed": false
   },
   "outputs": [
    {
     "data": {
      "text/html": [
       "<div>\n",
       "<table border=\"1\" class=\"dataframe\">\n",
       "  <thead>\n",
       "    <tr style=\"text-align: right;\">\n",
       "      <th></th>\n",
       "      <th>review_id</th>\n",
       "      <th>rid</th>\n",
       "      <th>count</th>\n",
       "      <th>mu</th>\n",
       "      <th>tau2</th>\n",
       "      <th>mean</th>\n",
       "      <th>var</th>\n",
       "      <th>thetas</th>\n",
       "      <th>varthetas</th>\n",
       "    </tr>\n",
       "  </thead>\n",
       "  <tbody>\n",
       "    <tr>\n",
       "      <th>9</th>\n",
       "      <td>--3QRshg8GhfimzyGWkcAQ</td>\n",
       "      <td>T2zItRCqolfzSZR2Io0OZg</td>\n",
       "      <td>1</td>\n",
       "      <td>0.728207</td>\n",
       "      <td>0.016908</td>\n",
       "      <td>0.888077</td>\n",
       "      <td>0.000000</td>\n",
       "      <td>0.728207</td>\n",
       "      <td>0.016908</td>\n",
       "    </tr>\n",
       "    <tr>\n",
       "      <th>19431</th>\n",
       "      <td>7Mg3i3KvbFF5eSoRYoc48w</td>\n",
       "      <td>T2zItRCqolfzSZR2Io0OZg</td>\n",
       "      <td>4</td>\n",
       "      <td>0.728207</td>\n",
       "      <td>0.016908</td>\n",
       "      <td>0.567850</td>\n",
       "      <td>0.041787</td>\n",
       "      <td>0.629090</td>\n",
       "      <td>0.006457</td>\n",
       "    </tr>\n",
       "    <tr>\n",
       "      <th>26393</th>\n",
       "      <td>AO3QETuRVA_e5Nn6VFOKUQ</td>\n",
       "      <td>T2zItRCqolfzSZR2Io0OZg</td>\n",
       "      <td>2</td>\n",
       "      <td>0.728207</td>\n",
       "      <td>0.016908</td>\n",
       "      <td>0.626272</td>\n",
       "      <td>0.000012</td>\n",
       "      <td>0.626310</td>\n",
       "      <td>0.000006</td>\n",
       "    </tr>\n",
       "    <tr>\n",
       "      <th>64616</th>\n",
       "      <td>QxEQ5q7R0SWGL31niiETyg</td>\n",
       "      <td>T2zItRCqolfzSZR2Io0OZg</td>\n",
       "      <td>5</td>\n",
       "      <td>0.728207</td>\n",
       "      <td>0.016908</td>\n",
       "      <td>0.626948</td>\n",
       "      <td>0.001345</td>\n",
       "      <td>0.628534</td>\n",
       "      <td>0.000265</td>\n",
       "    </tr>\n",
       "    <tr>\n",
       "      <th>94051</th>\n",
       "      <td>cmSaTa-eyoEAUSGThp5A4g</td>\n",
       "      <td>T2zItRCqolfzSZR2Io0OZg</td>\n",
       "      <td>2</td>\n",
       "      <td>0.728207</td>\n",
       "      <td>0.016908</td>\n",
       "      <td>0.838555</td>\n",
       "      <td>0.000082</td>\n",
       "      <td>0.838287</td>\n",
       "      <td>0.000041</td>\n",
       "    </tr>\n",
       "    <tr>\n",
       "      <th>141203</th>\n",
       "      <td>x72wx4MCuUV_-St6q2eROg</td>\n",
       "      <td>T2zItRCqolfzSZR2Io0OZg</td>\n",
       "      <td>1</td>\n",
       "      <td>0.728207</td>\n",
       "      <td>0.016908</td>\n",
       "      <td>0.758943</td>\n",
       "      <td>0.000000</td>\n",
       "      <td>0.728207</td>\n",
       "      <td>0.016908</td>\n",
       "    </tr>\n",
       "  </tbody>\n",
       "</table>\n",
       "</div>"
      ],
      "text/plain": [
       "                     review_id                     rid  count        mu      tau2      mean       var    thetas  varthetas\n",
       "9       --3QRshg8GhfimzyGWkcAQ  T2zItRCqolfzSZR2Io0OZg      1  0.728207  0.016908  0.888077  0.000000  0.728207   0.016908\n",
       "19431   7Mg3i3KvbFF5eSoRYoc48w  T2zItRCqolfzSZR2Io0OZg      4  0.728207  0.016908  0.567850  0.041787  0.629090   0.006457\n",
       "26393   AO3QETuRVA_e5Nn6VFOKUQ  T2zItRCqolfzSZR2Io0OZg      2  0.728207  0.016908  0.626272  0.000012  0.626310   0.000006\n",
       "64616   QxEQ5q7R0SWGL31niiETyg  T2zItRCqolfzSZR2Io0OZg      5  0.728207  0.016908  0.626948  0.001345  0.628534   0.000265\n",
       "94051   cmSaTa-eyoEAUSGThp5A4g  T2zItRCqolfzSZR2Io0OZg      2  0.728207  0.016908  0.838555  0.000082  0.838287   0.000041\n",
       "141203  x72wx4MCuUV_-St6q2eROg  T2zItRCqolfzSZR2Io0OZg      1  0.728207  0.016908  0.758943  0.000000  0.728207   0.016908"
      ]
     },
     "execution_count": 71,
     "metadata": {},
     "output_type": "execute_result"
    }
   ],
   "source": [
    "test1=c1df_eb[c1df_eb['rid']=='T2zItRCqolfzSZR2Io0OZg']\n",
    "test1"
   ]
  },
  {
   "cell_type": "markdown",
   "metadata": {},
   "source": [
    "#### 5.5 Extract data into the variable `data2` and make a shrinkage plot for Topic 1."
   ]
  },
  {
   "cell_type": "markdown",
   "metadata": {},
   "source": [
    "This is for the business `T2zItRCqolfzSZR2Io0OZg` for whom we extracted a dataframe `test1` above. Extract analogous data `data2` from `test1` and make a similar shrinkage plot. Compare and contrast the two plots."
   ]
  },
  {
   "cell_type": "code",
   "execution_count": 72,
   "metadata": {
    "collapsed": false
   },
   "outputs": [
    {
     "data": {
      "image/png": "[encoded data removed]",
      "text/plain": [
       "<matplotlib.figure.Figure at 0x1176cf250>"
      ]
     },
     "metadata": {},
     "output_type": "display_data"
    }
   ],
   "source": [
    "data2=zip(test1['mean'], test1['thetas'], test1['var']/test1['count'], test1['varthetas'], test1['count'])\n",
    "shrinkage_plot(data2);"
   ]
  },
  {
   "cell_type": "markdown",
   "metadata": {},
   "source": [
    "The shrinkage plot of test0 is much more condensed than that of test1"
   ]
  },
  {
   "cell_type": "markdown",
   "metadata": {},
   "source": [
    "#### 5.6 Create probability shrinkage plots."
   ]
  },
  {
   "cell_type": "markdown",
   "metadata": {},
   "source": [
    "Using the `prob` function you defined earlier, we can calculate the decision probabilities to decide whether a review is bullish on topic 0 or on topic one. We'll make a plot to show how these probabilities change on shrinking. Write a function `prob_shrinkage_plot` to implement this plot. \n",
    "\n",
    "Write similar code to `shrinkage_plot`, but this time, on the y-axis plot the probabilities calculated using `prob` on the unshrunk model instead of the y=0 we did in `shrinkage_plot`. Remember to to divide the within review variance by the count.  \n",
    "\n",
    "And instead of y=1, use probabilities calculated using the shrunk model. You can use a count of 1 in `prob` since the posterior variance estimate already takes this into account.\n",
    "\n",
    "Jitter if necessary.\n",
    "\n",
    "Dont forget to plot the standard-deviation error-bar on the x-axis as before. The argument into this function is `data`, and it has the same form as the `data` in `shrinkage_plot`.\n",
    "\n",
    "The signature is, ofcourse:\n",
    "\n",
    "`def prob_shrinkage_plot(data):`.\n",
    "\n",
    "Comment and compare the results below."
   ]
  },
  {
   "cell_type": "code",
   "execution_count": 42,
   "metadata": {
    "collapsed": false
   },
   "outputs": [],
   "source": [
    "def prob_shrinkage_plot(data):\n",
    "    palette = itertools.cycle(sns.color_palette())\n",
    "    with sns.axes_style('white'):\n",
    "        for m,t, me2, te2, c in data:\n",
    "            color=next(palette)\n",
    "            noise=0.04*np.random.randn()\n",
    "            noise2=0.04*np.random.randn()\n",
    "            probability = (m, )\n",
    "            plt.plot([m,t],[noise,1+noise2],'o-', color=color, lw=1)\n",
    "            if me2==0:\n",
    "                me2=4\n",
    "            plt.errorbar([m,t],[noise,1+noise2], xerr=[np.sqrt(me2), np.sqrt(te2)], color=color,  lw=1)\n",
    "        plt.yticks([])\n",
    "        plt.xlim([0,1])\n",
    "        sns.despine(offset=-2, trim=True, left=True)\n",
    "    return plt.gca()"
   ]
  },
  {
   "cell_type": "markdown",
   "metadata": {},
   "source": [
    "The plots are called in the same way as `shrinkage_plot`:"
   ]
  },
  {
   "cell_type": "code",
   "execution_count": 43,
   "metadata": {
    "collapsed": false
   },
   "outputs": [],
   "source": [
    "prob_shrinkage_plot(data);"
   ]
  },
  {
   "cell_type": "code",
   "execution_count": 44,
   "metadata": {
    "collapsed": false
   },
   "outputs": [],
   "source": [
    "prob_shrinkage_plot(data2);"
   ]
  },
  {
   "cell_type": "markdown",
   "metadata": {},
   "source": [
    "*your answer here*"
   ]
  },
  {
   "cell_type": "markdown",
   "metadata": {},
   "source": [
    "#### 5.7 How would one evaluate these probabilities?"
   ]
  },
  {
   "cell_type": "markdown",
   "metadata": {},
   "source": [
    "Remember that LDA is an unsupervised algorithm in answering this question."
   ]
  },
  {
   "cell_type": "markdown",
   "metadata": {
    "collapsed": true
   },
   "source": [
    "*your answer here*"
   ]
  }
 ],
 "metadata": {
  "kernelspec": {
   "display_name": "Python 2",
   "language": "python",
   "name": "python2"
  },
  "language_info": {
   "codemirror_mode": {
    "name": "ipython",
    "version": 2
   },
   "file_extension": ".py",
   "mimetype": "text/x-python",
   "name": "python",
   "nbconvert_exporter": "python",
   "pygments_lexer": "ipython2",
   "version": "2.7.10"
  }
 },
 "nbformat": 4,
 "nbformat_minor": 0
}
